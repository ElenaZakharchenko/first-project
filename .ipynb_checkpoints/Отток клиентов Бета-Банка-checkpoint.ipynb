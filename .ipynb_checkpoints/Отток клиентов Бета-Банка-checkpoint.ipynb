{
 "cells": [
  {
   "cell_type": "code",
   "execution_count": null,
   "metadata": {},
   "outputs": [],
   "source": []
  },
  {
   "cell_type": "markdown",
   "metadata": {
    "toc": true
   },
   "source": [
    "<h1>Содержание<span class=\"tocSkip\"></span></h1>\n",
    "<div class=\"toc\"><ul class=\"toc-item\"><li><span><a href=\"#Подготовка-данных\" data-toc-modified-id=\"Подготовка-данных-1\"><span class=\"toc-item-num\">1&nbsp;&nbsp;</span>Подготовка данных</a></span></li><li><span><a href=\"#Исследование-задачи\" data-toc-modified-id=\"Исследование-задачи-2\"><span class=\"toc-item-num\">2&nbsp;&nbsp;</span>Исследование задачи</a></span></li><li><span><a href=\"#Борьба-с-дисбалансом\" data-toc-modified-id=\"Борьба-с-дисбалансом-3\"><span class=\"toc-item-num\">3&nbsp;&nbsp;</span>Борьба с дисбалансом</a></span></li><li><span><a href=\"#Тестирование-модели\" data-toc-modified-id=\"Тестирование-модели-4\"><span class=\"toc-item-num\">4&nbsp;&nbsp;</span>Тестирование модели</a></span></li><li><span><a href=\"#Чек-лист-готовности-проекта\" data-toc-modified-id=\"Чек-лист-готовности-проекта-5\"><span class=\"toc-item-num\">5&nbsp;&nbsp;</span>Чек-лист готовности проекта</a></span></li></ul></div>"
   ]
  },
  {
   "cell_type": "markdown",
   "metadata": {},
   "source": [
    "# Отток клиентов Бета-Банка"
   ]
  },
  {
   "cell_type": "markdown",
   "metadata": {},
   "source": [
    "\n",
    "_____\n",
    "**Описание исследования:**\n",
    "\n",
    "Из «Бета-Банка» стали уходить клиенты. Каждый месяц. Немного, но заметно. Банковские маркетологи посчитали: сохранять текущих клиентов дешевле, чем привлекать новых.\n",
    "\n",
    "Нужно спрогнозировать, уйдёт клиент из банка в ближайшее время или нет. Вам предоставлены исторические данные о поведении клиентов и расторжении договоров с банком.\n",
    "\n",
    "\n",
    "\n",
    "_____\n",
    "**Цель исследования:**\n",
    "    \n",
    "Провести анализ данных при помощи которых предприятие разработает стратегию взаимодействия с клиентами.\n",
    "    \n",
    "_____\n",
    "**Задачи исследования.**\n",
    "\n",
    "1. Построить модель с предельно большим значением F1-меры, не меньше 0.59. \n",
    "2. Проверить F1-меру на тестовой выборке.\n",
    "3. Дополнительно измерить AUC-ROC, сравнивая её значение с F1-мерой.\n",
    "_____\n",
    "**Исходные данные:**\n",
    "\n",
    "Источник данных: https://www.kaggle.com/barelydedicated/bank-customer-churn-modeling\n",
    "\n",
    "Признаки:\n",
    " - RowNumber — индекс строки в данных\n",
    " - CustomerId — уникальный идентификатор клиента\n",
    " - Surname — фамилия\n",
    " - CreditScore — кредитный рейтинг\n",
    " - Geography — страна проживания\n",
    " - Gender — пол\n",
    " - Age — возраст\n",
    " - Tenure — сколько лет человек является клиентом банка\n",
    " - Balance — баланс на счёте\n",
    " - NumOfProducts — количество продуктов банка, используемых клиентом\n",
    " - HasCrCard — наличие кредитной карты\n",
    " - IsActiveMember — активность клиента\n",
    " - EstimatedSalary — предполагаемая зарплата\n",
    "\n",
    "Целевой признак:\n",
    " - Exited — факт ухода клиента\n",
    "______\n",
    "\n",
    "**Данное исследование разделим на несколько частей.**\n",
    "\n",
    "***Часть 1. Подготовка данных:***\n",
    "- проверка на наличие лишних данных для обучения;\n",
    "- проверка типов данных;\n",
    "- проверка на наличие пропусков;\n",
    "- проверка на наличие выбросов;\n",
    "- кодирование категориальных признаков;\n",
    "- разбиение на выборки;\n",
    "- масштабирование признаков;\n",
    "- проверка на наличие мультиколлинеарности признаков.\n",
    "\n",
    "***Часть 2. Исследование задачи:***\n",
    "\n",
    "- исследование данных на баланс классов;\n",
    "- обучение моделей без учета дисбаланса классов\n",
    "* \n",
    "***Часть 3. Борьба с дисбалансом:***\n",
    "\n",
    "- борьба с дисбалансом методом взвешивания классов;\n",
    "- использование upsampling и downsampling для борьбы с дисбалансом.\n",
    "\n",
    "***Часть 4. Тестирование модели***\n",
    "\n",
    "***Часть 5. Общие выводы***"
   ]
  },
  {
   "cell_type": "markdown",
   "metadata": {},
   "source": [
    "## Подготовка данных"
   ]
  },
  {
   "cell_type": "code",
   "execution_count": 1,
   "metadata": {},
   "outputs": [],
   "source": [
    "# импорт библиотек\n",
    "import pandas as pd\n",
    "from sklearn.model_selection import train_test_split\n",
    "from sklearn.tree import DecisionTreeClassifier\n",
    "from sklearn.ensemble import RandomForestClassifier\n",
    "from sklearn.linear_model import LogisticRegression \n",
    "from sklearn.metrics import f1_score\n",
    "import numpy as np\n",
    "from sklearn.experimental import enable_iterative_imputer\n",
    "from sklearn.impute import IterativeImputer\n",
    "from matplotlib import pyplot as plt\n",
    "import seaborn as sns\n",
    "from sklearn.preprocessing import StandardScaler\n",
    "from sklearn.utils import shuffle\n",
    "from sklearn.metrics import roc_curve \n",
    "from sklearn.metrics import roc_auc_score "
   ]
  },
  {
   "cell_type": "code",
   "execution_count": 2,
   "metadata": {},
   "outputs": [
    {
     "data": {
      "text/html": [
       "<div>\n",
       "<style scoped>\n",
       "    .dataframe tbody tr th:only-of-type {\n",
       "        vertical-align: middle;\n",
       "    }\n",
       "\n",
       "    .dataframe tbody tr th {\n",
       "        vertical-align: top;\n",
       "    }\n",
       "\n",
       "    .dataframe thead th {\n",
       "        text-align: right;\n",
       "    }\n",
       "</style>\n",
       "<table border=\"1\" class=\"dataframe\">\n",
       "  <thead>\n",
       "    <tr style=\"text-align: right;\">\n",
       "      <th></th>\n",
       "      <th>RowNumber</th>\n",
       "      <th>CustomerId</th>\n",
       "      <th>Surname</th>\n",
       "      <th>CreditScore</th>\n",
       "      <th>Geography</th>\n",
       "      <th>Gender</th>\n",
       "      <th>Age</th>\n",
       "      <th>Tenure</th>\n",
       "      <th>Balance</th>\n",
       "      <th>NumOfProducts</th>\n",
       "      <th>HasCrCard</th>\n",
       "      <th>IsActiveMember</th>\n",
       "      <th>EstimatedSalary</th>\n",
       "      <th>Exited</th>\n",
       "    </tr>\n",
       "  </thead>\n",
       "  <tbody>\n",
       "    <tr>\n",
       "      <th>0</th>\n",
       "      <td>1</td>\n",
       "      <td>15634602</td>\n",
       "      <td>Hargrave</td>\n",
       "      <td>619</td>\n",
       "      <td>France</td>\n",
       "      <td>Female</td>\n",
       "      <td>42</td>\n",
       "      <td>2.0</td>\n",
       "      <td>0.00</td>\n",
       "      <td>1</td>\n",
       "      <td>1</td>\n",
       "      <td>1</td>\n",
       "      <td>101348.88</td>\n",
       "      <td>1</td>\n",
       "    </tr>\n",
       "    <tr>\n",
       "      <th>1</th>\n",
       "      <td>2</td>\n",
       "      <td>15647311</td>\n",
       "      <td>Hill</td>\n",
       "      <td>608</td>\n",
       "      <td>Spain</td>\n",
       "      <td>Female</td>\n",
       "      <td>41</td>\n",
       "      <td>1.0</td>\n",
       "      <td>83807.86</td>\n",
       "      <td>1</td>\n",
       "      <td>0</td>\n",
       "      <td>1</td>\n",
       "      <td>112542.58</td>\n",
       "      <td>0</td>\n",
       "    </tr>\n",
       "    <tr>\n",
       "      <th>2</th>\n",
       "      <td>3</td>\n",
       "      <td>15619304</td>\n",
       "      <td>Onio</td>\n",
       "      <td>502</td>\n",
       "      <td>France</td>\n",
       "      <td>Female</td>\n",
       "      <td>42</td>\n",
       "      <td>8.0</td>\n",
       "      <td>159660.80</td>\n",
       "      <td>3</td>\n",
       "      <td>1</td>\n",
       "      <td>0</td>\n",
       "      <td>113931.57</td>\n",
       "      <td>1</td>\n",
       "    </tr>\n",
       "    <tr>\n",
       "      <th>3</th>\n",
       "      <td>4</td>\n",
       "      <td>15701354</td>\n",
       "      <td>Boni</td>\n",
       "      <td>699</td>\n",
       "      <td>France</td>\n",
       "      <td>Female</td>\n",
       "      <td>39</td>\n",
       "      <td>1.0</td>\n",
       "      <td>0.00</td>\n",
       "      <td>2</td>\n",
       "      <td>0</td>\n",
       "      <td>0</td>\n",
       "      <td>93826.63</td>\n",
       "      <td>0</td>\n",
       "    </tr>\n",
       "    <tr>\n",
       "      <th>4</th>\n",
       "      <td>5</td>\n",
       "      <td>15737888</td>\n",
       "      <td>Mitchell</td>\n",
       "      <td>850</td>\n",
       "      <td>Spain</td>\n",
       "      <td>Female</td>\n",
       "      <td>43</td>\n",
       "      <td>2.0</td>\n",
       "      <td>125510.82</td>\n",
       "      <td>1</td>\n",
       "      <td>1</td>\n",
       "      <td>1</td>\n",
       "      <td>79084.10</td>\n",
       "      <td>0</td>\n",
       "    </tr>\n",
       "  </tbody>\n",
       "</table>\n",
       "</div>"
      ],
      "text/plain": [
       "   RowNumber  CustomerId   Surname  CreditScore Geography  Gender  Age  \\\n",
       "0          1    15634602  Hargrave          619    France  Female   42   \n",
       "1          2    15647311      Hill          608     Spain  Female   41   \n",
       "2          3    15619304      Onio          502    France  Female   42   \n",
       "3          4    15701354      Boni          699    France  Female   39   \n",
       "4          5    15737888  Mitchell          850     Spain  Female   43   \n",
       "\n",
       "   Tenure    Balance  NumOfProducts  HasCrCard  IsActiveMember  \\\n",
       "0     2.0       0.00              1          1               1   \n",
       "1     1.0   83807.86              1          0               1   \n",
       "2     8.0  159660.80              3          1               0   \n",
       "3     1.0       0.00              2          0               0   \n",
       "4     2.0  125510.82              1          1               1   \n",
       "\n",
       "   EstimatedSalary  Exited  \n",
       "0        101348.88       1  \n",
       "1        112542.58       0  \n",
       "2        113931.57       1  \n",
       "3         93826.63       0  \n",
       "4         79084.10       0  "
      ]
     },
     "execution_count": 2,
     "metadata": {},
     "output_type": "execute_result"
    }
   ],
   "source": [
    "# познакомимся с файлом\n",
    "data = pd.read_csv('/datasets/Churn.csv')\n",
    "data.head()"
   ]
  },
  {
   "cell_type": "markdown",
   "metadata": {},
   "source": [
    "**1.1 Проверка на наличие лишних данных для обучения.**"
   ]
  },
  {
   "cell_type": "markdown",
   "metadata": {},
   "source": [
    "<a id='#1-bullet'></a>"
   ]
  },
  {
   "cell_type": "markdown",
   "metadata": {},
   "source": [
    "**Наличие определенных столбцов в данных не несет никакой практической значимости для обучения моделей и может только привести к ошибкам.**\n",
    "\n",
    "**Это столбцы - 'RowNumber', 'CustomerId', 'Surname'.**\n",
    "\n",
    "**Удалим их.**"
   ]
  },
  {
   "cell_type": "code",
   "execution_count": 3,
   "metadata": {},
   "outputs": [
    {
     "data": {
      "text/html": [
       "<div>\n",
       "<style scoped>\n",
       "    .dataframe tbody tr th:only-of-type {\n",
       "        vertical-align: middle;\n",
       "    }\n",
       "\n",
       "    .dataframe tbody tr th {\n",
       "        vertical-align: top;\n",
       "    }\n",
       "\n",
       "    .dataframe thead th {\n",
       "        text-align: right;\n",
       "    }\n",
       "</style>\n",
       "<table border=\"1\" class=\"dataframe\">\n",
       "  <thead>\n",
       "    <tr style=\"text-align: right;\">\n",
       "      <th></th>\n",
       "      <th>CreditScore</th>\n",
       "      <th>Geography</th>\n",
       "      <th>Gender</th>\n",
       "      <th>Age</th>\n",
       "      <th>Tenure</th>\n",
       "      <th>Balance</th>\n",
       "      <th>NumOfProducts</th>\n",
       "      <th>HasCrCard</th>\n",
       "      <th>IsActiveMember</th>\n",
       "      <th>EstimatedSalary</th>\n",
       "      <th>Exited</th>\n",
       "    </tr>\n",
       "  </thead>\n",
       "  <tbody>\n",
       "    <tr>\n",
       "      <th>0</th>\n",
       "      <td>619</td>\n",
       "      <td>France</td>\n",
       "      <td>Female</td>\n",
       "      <td>42</td>\n",
       "      <td>2.0</td>\n",
       "      <td>0.00</td>\n",
       "      <td>1</td>\n",
       "      <td>1</td>\n",
       "      <td>1</td>\n",
       "      <td>101348.88</td>\n",
       "      <td>1</td>\n",
       "    </tr>\n",
       "    <tr>\n",
       "      <th>1</th>\n",
       "      <td>608</td>\n",
       "      <td>Spain</td>\n",
       "      <td>Female</td>\n",
       "      <td>41</td>\n",
       "      <td>1.0</td>\n",
       "      <td>83807.86</td>\n",
       "      <td>1</td>\n",
       "      <td>0</td>\n",
       "      <td>1</td>\n",
       "      <td>112542.58</td>\n",
       "      <td>0</td>\n",
       "    </tr>\n",
       "    <tr>\n",
       "      <th>2</th>\n",
       "      <td>502</td>\n",
       "      <td>France</td>\n",
       "      <td>Female</td>\n",
       "      <td>42</td>\n",
       "      <td>8.0</td>\n",
       "      <td>159660.80</td>\n",
       "      <td>3</td>\n",
       "      <td>1</td>\n",
       "      <td>0</td>\n",
       "      <td>113931.57</td>\n",
       "      <td>1</td>\n",
       "    </tr>\n",
       "    <tr>\n",
       "      <th>3</th>\n",
       "      <td>699</td>\n",
       "      <td>France</td>\n",
       "      <td>Female</td>\n",
       "      <td>39</td>\n",
       "      <td>1.0</td>\n",
       "      <td>0.00</td>\n",
       "      <td>2</td>\n",
       "      <td>0</td>\n",
       "      <td>0</td>\n",
       "      <td>93826.63</td>\n",
       "      <td>0</td>\n",
       "    </tr>\n",
       "    <tr>\n",
       "      <th>4</th>\n",
       "      <td>850</td>\n",
       "      <td>Spain</td>\n",
       "      <td>Female</td>\n",
       "      <td>43</td>\n",
       "      <td>2.0</td>\n",
       "      <td>125510.82</td>\n",
       "      <td>1</td>\n",
       "      <td>1</td>\n",
       "      <td>1</td>\n",
       "      <td>79084.10</td>\n",
       "      <td>0</td>\n",
       "    </tr>\n",
       "  </tbody>\n",
       "</table>\n",
       "</div>"
      ],
      "text/plain": [
       "   CreditScore Geography  Gender  Age  Tenure    Balance  NumOfProducts  \\\n",
       "0          619    France  Female   42     2.0       0.00              1   \n",
       "1          608     Spain  Female   41     1.0   83807.86              1   \n",
       "2          502    France  Female   42     8.0  159660.80              3   \n",
       "3          699    France  Female   39     1.0       0.00              2   \n",
       "4          850     Spain  Female   43     2.0  125510.82              1   \n",
       "\n",
       "   HasCrCard  IsActiveMember  EstimatedSalary  Exited  \n",
       "0          1               1        101348.88       1  \n",
       "1          0               1        112542.58       0  \n",
       "2          1               0        113931.57       1  \n",
       "3          0               0         93826.63       0  \n",
       "4          1               1         79084.10       0  "
      ]
     },
     "execution_count": 3,
     "metadata": {},
     "output_type": "execute_result"
    }
   ],
   "source": [
    "data = data.drop(['RowNumber', 'CustomerId', 'Surname'], axis=1)\n",
    "data.head()"
   ]
  },
  {
   "cell_type": "markdown",
   "metadata": {},
   "source": [
    "**1.2 Проверка типов данных**"
   ]
  },
  {
   "cell_type": "code",
   "execution_count": 4,
   "metadata": {},
   "outputs": [
    {
     "name": "stdout",
     "output_type": "stream",
     "text": [
      "<class 'pandas.core.frame.DataFrame'>\n",
      "RangeIndex: 10000 entries, 0 to 9999\n",
      "Data columns (total 11 columns):\n",
      " #   Column           Non-Null Count  Dtype  \n",
      "---  ------           --------------  -----  \n",
      " 0   CreditScore      10000 non-null  int64  \n",
      " 1   Geography        10000 non-null  object \n",
      " 2   Gender           10000 non-null  object \n",
      " 3   Age              10000 non-null  int64  \n",
      " 4   Tenure           9091 non-null   float64\n",
      " 5   Balance          10000 non-null  float64\n",
      " 6   NumOfProducts    10000 non-null  int64  \n",
      " 7   HasCrCard        10000 non-null  int64  \n",
      " 8   IsActiveMember   10000 non-null  int64  \n",
      " 9   EstimatedSalary  10000 non-null  float64\n",
      " 10  Exited           10000 non-null  int64  \n",
      "dtypes: float64(3), int64(6), object(2)\n",
      "memory usage: 859.5+ KB\n"
     ]
    }
   ],
   "source": [
    "# изучим типы данных в таблице\n",
    "data.info()"
   ]
  },
  {
   "cell_type": "markdown",
   "metadata": {},
   "source": [
    "**Все корректно.**"
   ]
  },
  {
   "cell_type": "markdown",
   "metadata": {},
   "source": [
    "**1.3 Проверка на наличие пропусков.**"
   ]
  },
  {
   "cell_type": "code",
   "execution_count": 5,
   "metadata": {},
   "outputs": [
    {
     "data": {
      "text/plain": [
       "CreditScore          0\n",
       "Geography            0\n",
       "Gender               0\n",
       "Age                  0\n",
       "Tenure             909\n",
       "Balance              0\n",
       "NumOfProducts        0\n",
       "HasCrCard            0\n",
       "IsActiveMember       0\n",
       "EstimatedSalary      0\n",
       "Exited               0\n",
       "dtype: int64"
      ]
     },
     "execution_count": 5,
     "metadata": {},
     "output_type": "execute_result"
    }
   ],
   "source": [
    "# изучим количество пропусков\n",
    "data.isna().sum()"
   ]
  },
  {
   "cell_type": "markdown",
   "metadata": {},
   "source": [
    "**Пропуски в столбце 'Tenure' составляют 9%.**"
   ]
  },
  {
   "cell_type": "code",
   "execution_count": 6,
   "metadata": {},
   "outputs": [
    {
     "data": {
      "text/plain": [
       "<AxesSubplot:>"
      ]
     },
     "execution_count": 6,
     "metadata": {},
     "output_type": "execute_result"
    },
    {
     "data": {
      "image/png": "[encoded data removed]",
      "text/plain": [
       "<Figure size 432x288 with 1 Axes>"
      ]
     },
     "metadata": {
      "needs_background": "light"
     },
     "output_type": "display_data"
    }
   ],
   "source": [
    "# помотрим, как распределены данные в столбце до заполнения пропусков\n",
    "data['Tenure'].hist()"
   ]
  },
  {
   "cell_type": "code",
   "execution_count": 7,
   "metadata": {},
   "outputs": [],
   "source": [
    "# заполним пропуски медианным значением по возрасту\n",
    "for t in data['Age'].unique():\n",
    "    data.loc[(data['Age'] == t) & (data['Tenure'].isna()), 'Tenure'] = \\\n",
    "    data.loc[(data['Age'] == t), 'Tenure'].median()"
   ]
  },
  {
   "cell_type": "code",
   "execution_count": 8,
   "metadata": {},
   "outputs": [
    {
     "data": {
      "text/plain": [
       "<AxesSubplot:>"
      ]
     },
     "execution_count": 8,
     "metadata": {},
     "output_type": "execute_result"
    },
    {
     "data": {
      "image/png": "[encoded data removed]",
      "text/plain": [
       "<Figure size 432x288 with 1 Axes>"
      ]
     },
     "metadata": {
      "needs_background": "light"
     },
     "output_type": "display_data"
    }
   ],
   "source": [
    "data['Tenure'].hist()"
   ]
  },
  {
   "cell_type": "markdown",
   "metadata": {},
   "source": [
    "**Видим, что выбранный способ устранения пропусков искажает данные. Заполнение медианой привело к появлению заметного искусственного скачка в данных. В таком случае, в конкретной задаче, лучшим решением будет удалить пропуски.**"
   ]
  },
  {
   "cell_type": "code",
   "execution_count": 9,
   "metadata": {},
   "outputs": [],
   "source": [
    "#удалим пропуски\n",
    "data = data.dropna(subset=['Tenure']).reset_index(drop=True)"
   ]
  },
  {
   "cell_type": "code",
   "execution_count": 10,
   "metadata": {},
   "outputs": [
    {
     "data": {
      "text/plain": [
       "CreditScore        0\n",
       "Geography          0\n",
       "Gender             0\n",
       "Age                0\n",
       "Tenure             0\n",
       "Balance            0\n",
       "NumOfProducts      0\n",
       "HasCrCard          0\n",
       "IsActiveMember     0\n",
       "EstimatedSalary    0\n",
       "Exited             0\n",
       "dtype: int64"
      ]
     },
     "execution_count": 10,
     "metadata": {},
     "output_type": "execute_result"
    }
   ],
   "source": [
    "data.isna().sum()"
   ]
  },
  {
   "cell_type": "markdown",
   "metadata": {},
   "source": [
    "**1.4 Проверка на наличие выбросов.**"
   ]
  },
  {
   "cell_type": "markdown",
   "metadata": {},
   "source": [
    "**Исследуем данные, чтобы посмотреть как распределены значения.**"
   ]
  },
  {
   "cell_type": "code",
   "execution_count": 11,
   "metadata": {},
   "outputs": [
    {
     "data": {
      "text/plain": [
       "Text(0.5, 1.0, 'CreditScore. Boxplot')"
      ]
     },
     "execution_count": 11,
     "metadata": {},
     "output_type": "execute_result"
    },
    {
     "data": {
      "image/png": "[encoded data removed]",
      "text/plain": [
       "<Figure size 432x288 with 1 Axes>"
      ]
     },
     "metadata": {
      "needs_background": "light"
     },
     "output_type": "display_data"
    }
   ],
   "source": [
    "# построим boxplot для некоторых признаков, чтобы проверить наличие выбросов в данных\n",
    "sns.boxplot(x=data['CreditScore'])\n",
    "plt.title('CreditScore. Boxplot')"
   ]
  },
  {
   "cell_type": "code",
   "execution_count": 12,
   "metadata": {},
   "outputs": [
    {
     "data": {
      "text/plain": [
       "Text(0.5, 1.0, 'Age. Boxplot')"
      ]
     },
     "execution_count": 12,
     "metadata": {},
     "output_type": "execute_result"
    },
    {
     "data": {
      "image/png": "[encoded data removed]",
      "text/plain": [
       "<Figure size 432x288 with 1 Axes>"
      ]
     },
     "metadata": {
      "needs_background": "light"
     },
     "output_type": "display_data"
    }
   ],
   "source": [
    "sns.boxplot(x=data['Age'])\n",
    "plt.title('Age. Boxplot')"
   ]
  },
  {
   "cell_type": "code",
   "execution_count": 13,
   "metadata": {},
   "outputs": [
    {
     "data": {
      "text/plain": [
       "Text(0.5, 1.0, 'Balance. Boxplot')"
      ]
     },
     "execution_count": 13,
     "metadata": {},
     "output_type": "execute_result"
    },
    {
     "data": {
      "image/png": "[encoded data removed]",
      "text/plain": [
       "<Figure size 432x288 with 1 Axes>"
      ]
     },
     "metadata": {
      "needs_background": "light"
     },
     "output_type": "display_data"
    }
   ],
   "source": [
    "sns.boxplot(x=data['Balance'])\n",
    "plt.title('Balance. Boxplot')"
   ]
  },
  {
   "cell_type": "markdown",
   "metadata": {},
   "source": [
    "**В столбцах 'CreditScore' и 'Age' имеются выбросы. Нужно учесть это при масштабировании.**"
   ]
  },
  {
   "cell_type": "markdown",
   "metadata": {},
   "source": [
    "**1.5 Кодирование категориальных признаков**"
   ]
  },
  {
   "cell_type": "markdown",
   "metadata": {},
   "source": [
    "**Можем заметить, что в данных имеются категориальные признаки в столбцах 'Geography' и 'Gender'.**\n",
    "\n",
    "**Так как мы будем тестировать и проверять разные модели, лучшим решением будет использовать метод прямого кодирования, который работает также с логистической регрессией, в отличие от порядкового кодирования.**"
   ]
  },
  {
   "cell_type": "code",
   "execution_count": 14,
   "metadata": {},
   "outputs": [
    {
     "data": {
      "text/html": [
       "<div>\n",
       "<style scoped>\n",
       "    .dataframe tbody tr th:only-of-type {\n",
       "        vertical-align: middle;\n",
       "    }\n",
       "\n",
       "    .dataframe tbody tr th {\n",
       "        vertical-align: top;\n",
       "    }\n",
       "\n",
       "    .dataframe thead th {\n",
       "        text-align: right;\n",
       "    }\n",
       "</style>\n",
       "<table border=\"1\" class=\"dataframe\">\n",
       "  <thead>\n",
       "    <tr style=\"text-align: right;\">\n",
       "      <th></th>\n",
       "      <th>CreditScore</th>\n",
       "      <th>Age</th>\n",
       "      <th>Tenure</th>\n",
       "      <th>Balance</th>\n",
       "      <th>NumOfProducts</th>\n",
       "      <th>HasCrCard</th>\n",
       "      <th>IsActiveMember</th>\n",
       "      <th>EstimatedSalary</th>\n",
       "      <th>Exited</th>\n",
       "      <th>Geography_Germany</th>\n",
       "      <th>Geography_Spain</th>\n",
       "      <th>Gender_Male</th>\n",
       "    </tr>\n",
       "  </thead>\n",
       "  <tbody>\n",
       "    <tr>\n",
       "      <th>0</th>\n",
       "      <td>619</td>\n",
       "      <td>42</td>\n",
       "      <td>2.0</td>\n",
       "      <td>0.00</td>\n",
       "      <td>1</td>\n",
       "      <td>1</td>\n",
       "      <td>1</td>\n",
       "      <td>101348.88</td>\n",
       "      <td>1</td>\n",
       "      <td>0</td>\n",
       "      <td>0</td>\n",
       "      <td>0</td>\n",
       "    </tr>\n",
       "    <tr>\n",
       "      <th>1</th>\n",
       "      <td>608</td>\n",
       "      <td>41</td>\n",
       "      <td>1.0</td>\n",
       "      <td>83807.86</td>\n",
       "      <td>1</td>\n",
       "      <td>0</td>\n",
       "      <td>1</td>\n",
       "      <td>112542.58</td>\n",
       "      <td>0</td>\n",
       "      <td>0</td>\n",
       "      <td>1</td>\n",
       "      <td>0</td>\n",
       "    </tr>\n",
       "    <tr>\n",
       "      <th>2</th>\n",
       "      <td>502</td>\n",
       "      <td>42</td>\n",
       "      <td>8.0</td>\n",
       "      <td>159660.80</td>\n",
       "      <td>3</td>\n",
       "      <td>1</td>\n",
       "      <td>0</td>\n",
       "      <td>113931.57</td>\n",
       "      <td>1</td>\n",
       "      <td>0</td>\n",
       "      <td>0</td>\n",
       "      <td>0</td>\n",
       "    </tr>\n",
       "    <tr>\n",
       "      <th>3</th>\n",
       "      <td>699</td>\n",
       "      <td>39</td>\n",
       "      <td>1.0</td>\n",
       "      <td>0.00</td>\n",
       "      <td>2</td>\n",
       "      <td>0</td>\n",
       "      <td>0</td>\n",
       "      <td>93826.63</td>\n",
       "      <td>0</td>\n",
       "      <td>0</td>\n",
       "      <td>0</td>\n",
       "      <td>0</td>\n",
       "    </tr>\n",
       "    <tr>\n",
       "      <th>4</th>\n",
       "      <td>850</td>\n",
       "      <td>43</td>\n",
       "      <td>2.0</td>\n",
       "      <td>125510.82</td>\n",
       "      <td>1</td>\n",
       "      <td>1</td>\n",
       "      <td>1</td>\n",
       "      <td>79084.10</td>\n",
       "      <td>0</td>\n",
       "      <td>0</td>\n",
       "      <td>1</td>\n",
       "      <td>0</td>\n",
       "    </tr>\n",
       "  </tbody>\n",
       "</table>\n",
       "</div>"
      ],
      "text/plain": [
       "   CreditScore  Age  Tenure    Balance  NumOfProducts  HasCrCard  \\\n",
       "0          619   42     2.0       0.00              1          1   \n",
       "1          608   41     1.0   83807.86              1          0   \n",
       "2          502   42     8.0  159660.80              3          1   \n",
       "3          699   39     1.0       0.00              2          0   \n",
       "4          850   43     2.0  125510.82              1          1   \n",
       "\n",
       "   IsActiveMember  EstimatedSalary  Exited  Geography_Germany  \\\n",
       "0               1        101348.88       1                  0   \n",
       "1               1        112542.58       0                  0   \n",
       "2               0        113931.57       1                  0   \n",
       "3               0         93826.63       0                  0   \n",
       "4               1         79084.10       0                  0   \n",
       "\n",
       "   Geography_Spain  Gender_Male  \n",
       "0                0            0  \n",
       "1                1            0  \n",
       "2                0            0  \n",
       "3                0            0  \n",
       "4                1            0  "
      ]
     },
     "execution_count": 14,
     "metadata": {},
     "output_type": "execute_result"
    }
   ],
   "source": [
    "# проводим кодирование категориальных признаков\n",
    "data_ohe = pd.get_dummies(data, drop_first=True)\n",
    "data_ohe.head()"
   ]
  },
  {
   "cell_type": "markdown",
   "metadata": {},
   "source": [
    "**1.6 Разбиение на выборки**"
   ]
  },
  {
   "cell_type": "markdown",
   "metadata": {},
   "source": [
    "**Перед тем как заполнять пропуски и масштабировать некоторые признаки, проведем разбиение данных на три выборки: обучающую, валидационную и тестовую.**"
   ]
  },
  {
   "cell_type": "code",
   "execution_count": 15,
   "metadata": {},
   "outputs": [],
   "source": [
    "# для начала извлечем признаки\n",
    "features = data_ohe.drop(['Exited'], axis=1)# извлекаем признаки \n",
    "target = data_ohe['Exited'] # извлекаем целевой признак"
   ]
  },
  {
   "cell_type": "code",
   "execution_count": 16,
   "metadata": {},
   "outputs": [],
   "source": [
    "# разобьем данные на обучающую, валидационную и тестовую выборки\n",
    "features_train, features_1, target_train, target_1 = train_test_split(features, target, test_size=0.4, random_state=12345)\n",
    "features_valid, features_test, target_valid, target_test = train_test_split(features_1, target_1, test_size=0.5, random_state=12345)"
   ]
  },
  {
   "cell_type": "code",
   "execution_count": 17,
   "metadata": {},
   "outputs": [
    {
     "name": "stdout",
     "output_type": "stream",
     "text": [
      "(10000, 11)\n",
      "(6000, 11)\n",
      "(2000, 11)\n",
      "(2000, 11)\n"
     ]
    }
   ],
   "source": [
    "# проверим размеры выборок\n",
    "print(features.shape)\n",
    "print(features_train.shape)\n",
    "print(features_valid.shape)\n",
    "print(features_test.shape)"
   ]
  },
  {
   "cell_type": "markdown",
   "metadata": {},
   "source": [
    "**1.7 Проверка на наличие мультиколлинеарности признаков.**"
   ]
  },
  {
   "cell_type": "code",
   "execution_count": 18,
   "metadata": {},
   "outputs": [
    {
     "data": {
      "text/plain": [
       "<AxesSubplot:>"
      ]
     },
     "execution_count": 18,
     "metadata": {},
     "output_type": "execute_result"
    },
    {
     "data": {
      "image/png": "[encoded data removed]",
      "text/plain": [
       "<Figure size 720x360 with 2 Axes>"
      ]
     },
     "metadata": {
      "needs_background": "light"
     },
     "output_type": "display_data"
    }
   ],
   "source": [
    "# построим тепловую карту корреляции признаков\n",
    "plt.figure(figsize=(10,5))\n",
    "sns.heatmap(features_train.corr(), annot=True, vmin=-1, vmax=1, center=0, cmap='coolwarm', fmt='.1g')\n"
   ]
  },
  {
   "cell_type": "markdown",
   "metadata": {},
   "source": [
    "**Сильно значимой корреляции признаков не выявлено.**"
   ]
  },
  {
   "cell_type": "markdown",
   "metadata": {},
   "source": [
    "**1.8 Масштабирование признаков**"
   ]
  },
  {
   "cell_type": "code",
   "execution_count": 19,
   "metadata": {},
   "outputs": [],
   "source": [
    "# проведем масштабирование методом StandartScaler\n",
    "scaler = StandardScaler().fit(features_train)\n",
    "features_train_scaler = scaler.transform(features_train)\n",
    "features_valid_scaler = scaler.transform(features_valid)\n",
    "features_test_scaler = scaler.transform(features_test)"
   ]
  },
  {
   "cell_type": "markdown",
   "metadata": {},
   "source": [
    "## Исследование задачи"
   ]
  },
  {
   "cell_type": "markdown",
   "metadata": {},
   "source": [
    "**2.1 Исследование данных на баланс классов**"
   ]
  },
  {
   "cell_type": "code",
   "execution_count": 20,
   "metadata": {},
   "outputs": [
    {
     "name": "stdout",
     "output_type": "stream",
     "text": [
      "0    0.7963\n",
      "1    0.2037\n",
      "Name: Exited, dtype: float64\n"
     ]
    },
    {
     "data": {
      "text/plain": [
       "<AxesSubplot:>"
      ]
     },
     "execution_count": 20,
     "metadata": {},
     "output_type": "execute_result"
    },
    {
     "data": {
      "image/png": "[encoded data removed]",
      "text/plain": [
       "<Figure size 432x288 with 1 Axes>"
      ]
     },
     "metadata": {
      "needs_background": "light"
     },
     "output_type": "display_data"
    }
   ],
   "source": [
    "#выполним подсчет классов в целевом признаке\n",
    "class_frequency = target.value_counts(normalize=True)\n",
    "print(class_frequency)\n",
    "class_frequency.plot(kind='bar') "
   ]
  },
  {
   "cell_type": "code",
   "execution_count": 21,
   "metadata": {},
   "outputs": [
    {
     "name": "stdout",
     "output_type": "stream",
     "text": [
      "0    0.800667\n",
      "1    0.199333\n",
      "Name: Exited, dtype: float64\n"
     ]
    },
    {
     "data": {
      "text/plain": [
       "<AxesSubplot:>"
      ]
     },
     "execution_count": 21,
     "metadata": {},
     "output_type": "execute_result"
    },
    {
     "data": {
      "image/png": "[encoded data removed]",
      "text/plain": [
       "<Figure size 432x288 with 1 Axes>"
      ]
     },
     "metadata": {
      "needs_background": "light"
     },
     "output_type": "display_data"
    }
   ],
   "source": [
    "# проверим также баланс у классов тренировочной выборки\n",
    "class_frequency_train = target_train.value_counts(normalize=True)\n",
    "print(class_frequency_train)\n",
    "class_frequency_train.plot(kind='bar') "
   ]
  },
  {
   "cell_type": "markdown",
   "metadata": {},
   "source": [
    "**Наблюдается сильный дисбаланс классов: 4:1**"
   ]
  },
  {
   "cell_type": "markdown",
   "metadata": {},
   "source": [
    "**2.2 Обучение модели без учета дисбаланса классов**"
   ]
  },
  {
   "cell_type": "markdown",
   "metadata": {},
   "source": [
    "**2.2.1 Обучим модель логистической регрессии без учета дисбаланса классов и посмотрим на значение f1-меры**"
   ]
  },
  {
   "cell_type": "code",
   "execution_count": 22,
   "metadata": {},
   "outputs": [
    {
     "name": "stdout",
     "output_type": "stream",
     "text": [
      "F1-мера\n",
      "Валидационная выборка: 0.33389544688026984\n"
     ]
    }
   ],
   "source": [
    "#обучаем модель логистической регрессии на несбалансированных данных\n",
    "model = LogisticRegression(random_state=12345, solver='liblinear') \n",
    "model.fit(features_train_scaler, target_train) # обучаем модель на тренировочной выборке\n",
    "predictions_valid = model.predict(features_valid_scaler) # получаем предсказания модели на валидационной выборке\n",
    "result = f1_score(target_valid, predictions_valid) # посчитаем значение метрики на валидационной выборке\n",
    "print(\"F1-мера\")\n",
    "print(\"Валидационная выборка:\", result)"
   ]
  },
  {
   "cell_type": "markdown",
   "metadata": {},
   "source": [
    "**2.2.2 Обучим модель дерево решений без учета дисбаланса классов и посмотрим на значение f1-меры**"
   ]
  },
  {
   "cell_type": "code",
   "execution_count": 23,
   "metadata": {},
   "outputs": [
    {
     "name": "stdout",
     "output_type": "stream",
     "text": [
      "F1-мера\n",
      "Валидационная выборка: 0.5528700906344411 Лучшая глубина: 4\n"
     ]
    }
   ],
   "source": [
    "#обучаем модель 'дерево решений' на несбалансированных данных\n",
    "best_result = 0\n",
    "best_depth = 0\n",
    "for depth in range(1, 6):\n",
    "    model = DecisionTreeClassifier(max_depth=depth, random_state=12345)\n",
    "    model.fit(features_train_scaler, target_train) # обучаем модель на тренировочной выборке\n",
    "    predictions_valid = model.predict(features_valid_scaler) # получаем предсказания модели на валидационной выборке\n",
    "    result = f1_score(target_valid, predictions_valid) # посчитаем значение метрики на валидационной выборке\n",
    "    if result > best_result:\n",
    "        best_result = result\n",
    "        best_depth = depth\n",
    "print(\"F1-мера\")\n",
    "print(\"Валидационная выборка:\", best_result, \"Лучшая глубина:\", best_depth)"
   ]
  },
  {
   "cell_type": "markdown",
   "metadata": {},
   "source": [
    "**2.2.3 Обучим модель \"случайный лес\" без учета дисбаланса классов и посмотрим на значение f1-меры**"
   ]
  },
  {
   "cell_type": "code",
   "execution_count": 24,
   "metadata": {},
   "outputs": [
    {
     "name": "stdout",
     "output_type": "stream",
     "text": [
      "F1-мера\n",
      "Валидационная выборка: 0.587431693989071 Лучшее количество деревьев: 7\n"
     ]
    }
   ],
   "source": [
    "#обучаем модель \"случайный лес\" на несбалансированных данных\n",
    "best_result = 0\n",
    "best_est = 0\n",
    "for est in range(1, 11):\n",
    "    model = RandomForestClassifier(random_state=12345, n_estimators=est)\n",
    "    model.fit(features_train_scaler, target_train) # обучаем модель на тренировочной выборке\n",
    "    predictions_valid = model.predict(features_valid_scaler) # получаем предсказания модели на валидационной выборке\n",
    "    result = f1_score(target_valid, predictions_valid) # посчитаем значение метрики на валидационной выборке\n",
    "    if result > best_result:\n",
    "        best_result = result\n",
    "        best_est = est\n",
    "print(\"F1-мера\")\n",
    "print(\"Валидационная выборка:\", best_result, \"Лучшее количество деревьев:\", best_est)"
   ]
  },
  {
   "cell_type": "markdown",
   "metadata": {},
   "source": [
    "**Лучше всего показывает себя модель \"случайный лес\", что даже на несбалансированных данных достигает F1-меры, равной почти 0,59.**"
   ]
  },
  {
   "cell_type": "markdown",
   "metadata": {},
   "source": [
    "## Борьба с дисбалансом"
   ]
  },
  {
   "cell_type": "markdown",
   "metadata": {},
   "source": [
    "**3.1 Борьба с дисбалансом методом взвешивания классов**"
   ]
  },
  {
   "cell_type": "markdown",
   "metadata": {},
   "source": [
    "**3.1.1 Обучим модель \"логистическая регрессия\" с учетом дисбаланса и посмотрим на значение f1-меры**"
   ]
  },
  {
   "cell_type": "code",
   "execution_count": 25,
   "metadata": {},
   "outputs": [
    {
     "name": "stdout",
     "output_type": "stream",
     "text": [
      "F1-мера\n",
      "Валидационная выборка: 0.4888507718696398\n"
     ]
    }
   ],
   "source": [
    "#обучаем модель логистической регрессии с учетом дисбаланса данных\n",
    "model = LogisticRegression(random_state=12345, solver='liblinear', class_weight='balanced') \n",
    "model.fit(features_train_scaler, target_train) # обучаем модель на тренировочной выборке\n",
    "predictions_valid = model.predict(features_valid_scaler) # получаем предсказания модели на валидационной выборке\n",
    "result = f1_score(target_valid, predictions_valid) # посчитаем значение метрики на валидационной выборке\n",
    "print(\"F1-мера\")\n",
    "print(\"Валидационная выборка:\", result)"
   ]
  },
  {
   "cell_type": "markdown",
   "metadata": {},
   "source": [
    "**3.1.2 Обучим модель \"дерево решений\" с учетом дисбаланса и посмотрим на значение f1-меры**"
   ]
  },
  {
   "cell_type": "code",
   "execution_count": 26,
   "metadata": {},
   "outputs": [
    {
     "name": "stdout",
     "output_type": "stream",
     "text": [
      "F1-мера\n",
      "Валидационная выборка: 0.5963791267305644 Лучшая глубина: 5\n"
     ]
    }
   ],
   "source": [
    "#обучаем модель \"дерева решений\" с учетом дисбаланса данных\n",
    "best_result = 0\n",
    "best_depth = 0\n",
    "for depth in range(1, 7):\n",
    "    model = DecisionTreeClassifier(max_depth=depth, random_state=12345, class_weight='balanced')\n",
    "    model.fit(features_train_scaler, target_train) # обучаем модель на тренировочной выборке\n",
    "    predictions_valid = model.predict(features_valid_scaler) # получаем предсказания модели на валидационной выборке\n",
    "    result = f1_score(target_valid, predictions_valid) # посчитаем значение метрики на валидационной выборке\n",
    "    if result > best_result:\n",
    "        best_result = result\n",
    "        best_depth = depth\n",
    "print(\"F1-мера\")\n",
    "print(\"Валидационная выборка:\", best_result, \"Лучшая глубина:\", best_depth)"
   ]
  },
  {
   "cell_type": "markdown",
   "metadata": {},
   "source": [
    "**3.1.3 Обучим модель \"случайный лес\" с учетом дисбаланса и посмотрим на значение f1-меры**"
   ]
  },
  {
   "cell_type": "code",
   "execution_count": 27,
   "metadata": {},
   "outputs": [
    {
     "name": "stdout",
     "output_type": "stream",
     "text": [
      "F1-мера\n",
      "Валидационная выборка: 0.586894586894587 Лучшее количество деревьев: 7\n"
     ]
    }
   ],
   "source": [
    "#обучаем модель \"случайный лес\" с учетом дисбаланса данных\n",
    "best_result = 0\n",
    "best_est = 0\n",
    "\n",
    "for est in range(1, 11):\n",
    "    model = RandomForestClassifier(random_state=12345, n_estimators=est, class_weight='balanced')\n",
    "    model.fit(features_train_scaler, target_train) # обучаем модель на тренировочной выборке\n",
    "    predictions_valid = model.predict(features_valid_scaler) # получаем предсказания модели на валидационной выборке\n",
    "    result = f1_score(target_valid, predictions_valid) # посчитаем значение метрики на валидационной выборке\n",
    "    if result > best_result:\n",
    "        best_result = result\n",
    "        best_est = est\n",
    "print(\"F1-мера\")\n",
    "print(\"Валидационная выборка:\", best_result, \"Лучшее количество деревьев:\", best_est)"
   ]
  },
  {
   "cell_type": "code",
   "execution_count": 28,
   "metadata": {},
   "outputs": [
    {
     "name": "stdout",
     "output_type": "stream",
     "text": [
      "F1-мера\n",
      "Валидационная выборка: 0.632420091324201 Лучшая глубина: 9 Лучшее количество деревьев: 66\n"
     ]
    }
   ],
   "source": [
    "# добавим в модель \"случайный лес\" еще параметр max_depth и в разы увеличим количество деревьев\n",
    "best_result = 0\n",
    "best_est = 0\n",
    "best_depth = 0\n",
    "for est in range(1, 70):\n",
    "    for depth in range(1, 10):\n",
    "        model = RandomForestClassifier(random_state=12345, n_estimators=est, class_weight='balanced', max_depth=depth)\n",
    "        model.fit(features_train_scaler, target_train) # обучаем модель на тренировочной выборке\n",
    "        predictions_valid = model.predict(features_valid_scaler) # получаем предсказания модели на валидационной выборке\n",
    "        result = f1_score(target_valid, predictions_valid)\n",
    "        if result > best_result:\n",
    "            best_result = result\n",
    "            best_depth = depth\n",
    "            best_est = est\n",
    "    if result > best_result:\n",
    "        best_result = result\n",
    "        best_est = est\n",
    "print(\"F1-мера\")\n",
    "print(\"Валидационная выборка:\", result, \"Лучшая глубина:\", best_depth, \"Лучшее количество деревьев:\", best_est)"
   ]
  },
  {
   "cell_type": "markdown",
   "metadata": {},
   "source": [
    "**Можно заметить заметный прирост качества модели логистической регрессии при устранении дисбаланса классов методом взвешивания.**\n",
    "**Качество моделей \"дерево решений\" и \"cлучайный лес\" также увеличилось.** \n",
    "**Модель \"cлучайный лес\" при учете дисбаланса методом взвешивания дает нам желательную величину метрики F1-меры, большую 0,59.**"
   ]
  },
  {
   "cell_type": "markdown",
   "metadata": {},
   "source": [
    "**3.2 Использование upsampling и downsampling для борьбы с дисбалансом**"
   ]
  },
  {
   "cell_type": "markdown",
   "metadata": {},
   "source": [
    "**3.2.1 Использование upsampling для борьбы с дисбалансом**"
   ]
  },
  {
   "cell_type": "code",
   "execution_count": 31,
   "metadata": {},
   "outputs": [],
   "source": [
    "# увелим число строк с целевым признаком, равным 1, в тренировочной выборке в 4 раза\n",
    "features_train_zeros = features_train[target_train == 0]\n",
    "features_train_ones = features_train[target_train == 1]\n",
    "target_train_zeros = target_train[target_train == 0]\n",
    "target_train_ones = target_train[target_train == 1]\n",
    "    \n",
    "features_upsampled_train = pd.concat([features_train_zeros] + [features_train_ones] * 4)\n",
    "target_upsampled_train = pd.concat([target_train_zeros] + [target_train_ones] * 4)\n",
    "    \n",
    "features_upsampled_train, target_upsampled_train = shuffle(features_upsampled_train, target_upsampled_train, random_state=12345)"
   ]
  },
  {
   "cell_type": "code",
   "execution_count": 32,
   "metadata": {},
   "outputs": [
    {
     "name": "stdout",
     "output_type": "stream",
     "text": [
      "0    0.501043\n",
      "1    0.498957\n",
      "Name: Exited, dtype: float64\n"
     ]
    },
    {
     "data": {
      "text/plain": [
       "<AxesSubplot:>"
      ]
     },
     "execution_count": 32,
     "metadata": {},
     "output_type": "execute_result"
    },
    {
     "data": {
      "image/png": "[encoded data removed]",
      "text/plain": [
       "<Figure size 432x288 with 1 Axes>"
      ]
     },
     "metadata": {
      "needs_background": "light"
     },
     "output_type": "display_data"
    }
   ],
   "source": [
    "# посмотрим на соотношение классов теперь\n",
    "class_frequency_train_balanced = target_upsampled_train.value_counts(normalize=True)\n",
    "print(class_frequency_train_balanced)\n",
    "class_frequency_train_balanced.plot(kind='bar') "
   ]
  },
  {
   "cell_type": "markdown",
   "metadata": {},
   "source": [
    "**Теперь соотношение классов 1:1.**"
   ]
  },
  {
   "cell_type": "markdown",
   "metadata": {},
   "source": [
    "**Повторим масштабирование признаков для отбалансированной тренировочной выборки.**"
   ]
  },
  {
   "cell_type": "code",
   "execution_count": 33,
   "metadata": {},
   "outputs": [],
   "source": [
    "# проведем масштабирование методом StandartScaler\n",
    "scaler = StandardScaler()\n",
    "features_train_upsampled_scaler = scaler.fit_transform(features_upsampled_train)"
   ]
  },
  {
   "cell_type": "markdown",
   "metadata": {},
   "source": [
    "**Обучение моделей на сбалансированной выборке после upsampling**"
   ]
  },
  {
   "cell_type": "markdown",
   "metadata": {},
   "source": [
    "**Обучим модель \"логистическая регрессия\" с учетом дисбаланса и посмотрим на значение f1-меры**"
   ]
  },
  {
   "cell_type": "code",
   "execution_count": 34,
   "metadata": {},
   "outputs": [
    {
     "name": "stdout",
     "output_type": "stream",
     "text": [
      "F1-мера\n",
      "Валидационная выборка: 0.47619047619047616\n"
     ]
    }
   ],
   "source": [
    "#обучаем модель логистической регрессии на сбалансированных методом upsampling данных \n",
    "model = LogisticRegression(random_state=12345, solver='liblinear') \n",
    "model.fit(features_train_upsampled_scaler, target_upsampled_train) # обучаем модель на тренировочной выборке\n",
    "predictions_valid = model.predict(features_valid_scaler) # получаем предсказания модели на валидационной выборке\n",
    "result = f1_score(target_valid, predictions_valid) # посчитаем значение метрики на валидационной выборке\n",
    "print(\"F1-мера\")\n",
    "print(\"Валидационная выборка:\", result)"
   ]
  },
  {
   "cell_type": "markdown",
   "metadata": {},
   "source": [
    "**Обучим модель \"дерево решений\" с учетом дисбаланса и посмотрим на значение f1-меры**"
   ]
  },
  {
   "cell_type": "code",
   "execution_count": 35,
   "metadata": {},
   "outputs": [
    {
     "name": "stdout",
     "output_type": "stream",
     "text": [
      "F1-мера\n",
      "Валидационная выборка: 0.5785920925747348 Лучшая глубина: 5\n"
     ]
    }
   ],
   "source": [
    "#обучаем модель \"дерева решений\" на сбалансированных методом upsampling данных\n",
    "best_result = 0\n",
    "best_depth = 0\n",
    "for depth in range(1, 10):\n",
    "    model = DecisionTreeClassifier(max_depth=depth, random_state=12345)\n",
    "    model.fit(features_train_upsampled_scaler, target_upsampled_train) # обучаем модель на тренировочной выборке\n",
    "    predictions_valid = model.predict(features_valid_scaler) # получаем предсказания модели на валидационной выборке\n",
    "    result = f1_score(target_valid, predictions_valid) # посчитаем значение метрики на валидационной выборке\n",
    "    if result > best_result:\n",
    "        best_result = result\n",
    "        best_depth = depth\n",
    "print(\"F1-мера\")\n",
    "print(\"Валидационная выборка:\", best_result, \"Лучшая глубина:\", best_depth)"
   ]
  },
  {
   "cell_type": "markdown",
   "metadata": {},
   "source": [
    "**Обучим модель \"случайный лес\" с учетом дисбаланса и посмотрим на значение f1-меры**"
   ]
  },
  {
   "cell_type": "code",
   "execution_count": 36,
   "metadata": {},
   "outputs": [
    {
     "name": "stdout",
     "output_type": "stream",
     "text": [
      "F1-мера\n",
      "Валидационная выборка: 0.5816831683168316 Лучшее количество деревьев: 10\n"
     ]
    }
   ],
   "source": [
    "#обучаем модель \"случайный лес\" на сбалансированных методом upsampling данных\n",
    "best_result = 0\n",
    "best_est = 0\n",
    "for est in range(1, 11):\n",
    "    model = RandomForestClassifier(random_state=12345, n_estimators=est)\n",
    "    model.fit(features_train_upsampled_scaler, target_upsampled_train) # обучаем модель на тренировочной выборке\n",
    "    predictions_valid = model.predict(features_valid_scaler) # получаем предсказания модели на валидационной выборке\n",
    "    result = f1_score(target_valid, predictions_valid) # посчитаем значение метрики на валидационной выборке\n",
    "    if result > best_result:\n",
    "        best_result = result\n",
    "        best_est = est\n",
    "print(\"F1-мера\")\n",
    "print(\"Валидационная выборка:\", best_result, \"Лучшее количество деревьев:\", best_est)"
   ]
  },
  {
   "cell_type": "code",
   "execution_count": 37,
   "metadata": {},
   "outputs": [
    {
     "name": "stdout",
     "output_type": "stream",
     "text": [
      "F1-мера\n",
      "Валидационная выборка: 0.5967588179218303 Лучшая глубина: 8 Лучшее количество деревьев: 15\n"
     ]
    }
   ],
   "source": [
    "# добавим в модель \"случайный лес\" еще параметр max_depth и в разы увеличим количество деревьев\n",
    "best_result = 0\n",
    "best_est = 0\n",
    "best_depth = 0\n",
    "for est in range(1, 70):\n",
    "    for depth in range(1, 10):\n",
    "        model = RandomForestClassifier(random_state=12345, n_estimators=est, max_depth=depth)\n",
    "        model.fit(features_train_upsampled_scaler, target_upsampled_train) # обучаем модель на тренировочной выборке\n",
    "        predictions_valid = model.predict(features_valid_scaler) # получаем предсказания модели на валидационной выборке\n",
    "        result = f1_score(target_valid, predictions_valid)\n",
    "        if result > best_result:\n",
    "            best_result = result\n",
    "            best_depth = depth\n",
    "            best_est = est\n",
    "    if result > best_result:\n",
    "        best_result = result\n",
    "        best_est = est\n",
    "print(\"F1-мера\")\n",
    "print(\"Валидационная выборка:\", result, \"Лучшая глубина:\", best_depth, \"Лучшее количество деревьев:\", best_est)"
   ]
  },
  {
   "cell_type": "markdown",
   "metadata": {},
   "source": [
    "**Метрика F1-меры достигает хорошего результата при использовании upsampling, но хуже, чем при использовании метода взвешивания классов.**"
   ]
  },
  {
   "cell_type": "markdown",
   "metadata": {},
   "source": [
    "**3.2.2 Использование downsampling для борьбы с дисбалансом**"
   ]
  },
  {
   "cell_type": "code",
   "execution_count": 38,
   "metadata": {},
   "outputs": [],
   "source": [
    "# уменьшим число строк с целевым признаком, равным 0, в тренировочной выборке в 4 раза\n",
    "features_downsampling_train = pd.concat([features_train_zeros.sample(frac=0.25, random_state=12345)] + [features_train_ones])\n",
    "target_downsampling_train = pd.concat([target_train_zeros.sample(frac=0.25, random_state=12345)] + [target_train_ones])\n",
    "\n",
    "features_downsampling_train, target_downsampling_train = shuffle(features_downsampling_train, target_downsampling_train, random_state=12345)"
   ]
  },
  {
   "cell_type": "code",
   "execution_count": 39,
   "metadata": {},
   "outputs": [
    {
     "name": "stdout",
     "output_type": "stream",
     "text": [
      "0    0.501043\n",
      "1    0.498957\n",
      "Name: Exited, dtype: float64\n"
     ]
    },
    {
     "data": {
      "text/plain": [
       "<AxesSubplot:>"
      ]
     },
     "execution_count": 39,
     "metadata": {},
     "output_type": "execute_result"
    },
    {
     "data": {
      "image/png": "[encoded data removed]",
      "text/plain": [
       "<Figure size 432x288 with 1 Axes>"
      ]
     },
     "metadata": {
      "needs_background": "light"
     },
     "output_type": "display_data"
    }
   ],
   "source": [
    "# посмотрим на соотношение классов теперь\n",
    "class_frequency_train_balanced = target_downsampling_train.value_counts(normalize=True)\n",
    "print(class_frequency_train_balanced)\n",
    "class_frequency_train_balanced.plot(kind='bar')"
   ]
  },
  {
   "cell_type": "code",
   "execution_count": 40,
   "metadata": {},
   "outputs": [],
   "source": [
    "# проведем масштабирование методом StandartScaler\n",
    "scaler = StandardScaler()\n",
    "features_train_downsampling_scaler = scaler.fit_transform(features_downsampling_train)"
   ]
  },
  {
   "cell_type": "markdown",
   "metadata": {},
   "source": [
    "**Обучение моделей на сбалансированной выборке после downsampling**"
   ]
  },
  {
   "cell_type": "markdown",
   "metadata": {},
   "source": [
    "**Обучим модель \"логистическая регрессия\" с учетом дисбаланса и посмотрим на значение f1-меры**"
   ]
  },
  {
   "cell_type": "code",
   "execution_count": 41,
   "metadata": {},
   "outputs": [
    {
     "name": "stdout",
     "output_type": "stream",
     "text": [
      "F1-мера\n",
      "Валидационная выборка: 0.4855491329479768\n"
     ]
    }
   ],
   "source": [
    "#обучаем модель логистической регрессии на сбалансированных методом downsampling данных \n",
    "model = LogisticRegression(random_state=12345, solver='liblinear') \n",
    "model.fit(features_train_downsampling_scaler, target_downsampling_train) # обучаем модель на тренировочной выборке\n",
    "predictions_valid = model.predict(features_valid_scaler) # получаем предсказания модели на валидационной выборке\n",
    "result = f1_score(target_valid, predictions_valid) # посчитаем значение метрики на валидационной выборке\n",
    "print(\"F1-мера\")\n",
    "print(\"Валидационная выборка:\", result)"
   ]
  },
  {
   "cell_type": "markdown",
   "metadata": {},
   "source": [
    "**Обучим модель \"дерево решений\" с учетом дисбаланса и посмотрим на значение f1-меры**"
   ]
  },
  {
   "cell_type": "code",
   "execution_count": 42,
   "metadata": {},
   "outputs": [
    {
     "name": "stdout",
     "output_type": "stream",
     "text": [
      "F1-мера\n",
      "Валидационная выборка: 0.5796831314072695 Лучшая глубина: 5\n"
     ]
    }
   ],
   "source": [
    "#обучаем модель \"дерева решений\" на сбалансированных методом downsampling данных\n",
    "best_result = 0\n",
    "best_depth = 0\n",
    "for depth in range(1, 10):\n",
    "    model = DecisionTreeClassifier(max_depth=depth, random_state=12345)\n",
    "    model.fit(features_train_downsampling_scaler, target_downsampling_train) # обучаем модель на тренировочной выборке\n",
    "    predictions_valid = model.predict(features_valid_scaler) # получаем предсказания модели на валидационной выборке\n",
    "    result = f1_score(target_valid, predictions_valid) # посчитаем значение метрики на валидационной выборке\n",
    "    if result > best_result:\n",
    "        best_result = result\n",
    "        best_depth = depth\n",
    "print(\"F1-мера\")\n",
    "print(\"Валидационная выборка:\", best_result, \"Лучшая глубина:\", best_depth)"
   ]
  },
  {
   "cell_type": "markdown",
   "metadata": {},
   "source": [
    "**Обучим модель \"случайный лес\" с учетом дисбаланса и посмотрим на значение f1-меры**"
   ]
  },
  {
   "cell_type": "code",
   "execution_count": 43,
   "metadata": {},
   "outputs": [
    {
     "name": "stdout",
     "output_type": "stream",
     "text": [
      "F1-мера\n",
      "Валидационная выборка: 0.5623869801084992 Лучшее количество деревьев: 8\n"
     ]
    }
   ],
   "source": [
    "#обучаем модель \"случайный лес\" на сбалансированных методом downsampling данных\n",
    "best_result = 0\n",
    "best_est = 0\n",
    "for est in range(1, 11):\n",
    "    model = RandomForestClassifier(random_state=12345, n_estimators=est)\n",
    "    model.fit(features_train_downsampling_scaler, target_downsampling_train) # обучаем модель на тренировочной выборке\n",
    "    predictions_valid = model.predict(features_valid_scaler) # получаем предсказания модели на валидационной выборке\n",
    "    result = f1_score(target_valid, predictions_valid) # посчитаем значение метрики на валидационной выборке\n",
    "    if result > best_result:\n",
    "        best_result = result\n",
    "        best_est = est\n",
    "print(\"F1-мера\")\n",
    "print(\"Валидационная выборка:\", best_result, \"Лучшее количество деревьев:\", best_est)"
   ]
  },
  {
   "cell_type": "code",
   "execution_count": 44,
   "metadata": {},
   "outputs": [
    {
     "name": "stdout",
     "output_type": "stream",
     "text": [
      "F1-мера\n",
      "Валидационная выборка: 0.5685106382978723 Лучшая глубина: 7 Лучшее количество деревьев: 15\n"
     ]
    }
   ],
   "source": [
    "# добавим в модель \"случайный лес\" еще параметр max_depth и в разы увеличим количество деревьев\n",
    "best_result = 0\n",
    "best_est = 0\n",
    "best_depth = 0\n",
    "for est in range(1, 70):\n",
    "    for depth in range(1, 10):\n",
    "        model = RandomForestClassifier(random_state=12345, n_estimators=est, max_depth=depth)\n",
    "        model.fit(features_train_downsampling_scaler, target_downsampling_train) # обучаем модель на тренировочной выборке\n",
    "        predictions_valid = model.predict(features_valid_scaler) # получаем предсказания модели на валидационной выборке\n",
    "        result = f1_score(target_valid, predictions_valid)\n",
    "        if result > best_result:\n",
    "            best_result = result\n",
    "            best_depth = depth\n",
    "            best_est = est\n",
    "    if result > best_result:\n",
    "        best_result = result\n",
    "        best_est = est\n",
    "print(\"F1-мера\")\n",
    "print(\"Валидационная выборка:\", result, \"Лучшая глубина:\", best_depth, \"Лучшее количество деревьев:\", best_est)"
   ]
  },
  {
   "cell_type": "markdown",
   "metadata": {},
   "source": [
    "**Метрика F1-меры достигает хорошего результата и при использовании downsamplin, но результат мало отличется от метрик, полученных при upsampling**"
   ]
  },
  {
   "cell_type": "markdown",
   "metadata": {},
   "source": [
    "## Тестирование модели"
   ]
  },
  {
   "cell_type": "markdown",
   "metadata": {},
   "source": [
    "**4.1 Выбор модели для тестирования**"
   ]
  },
  {
   "cell_type": "markdown",
   "metadata": {},
   "source": [
    "**Лучше всего себя показала модель \"случайный лес\" с параметрами random_state=12345, n_estimators=66, class_weight='balanced' и  max_depth=9.**\n",
    "**Будем использовать ее для финального тестирования.**"
   ]
  },
  {
   "cell_type": "markdown",
   "metadata": {},
   "source": [
    "**4.2 Тестирование модели и исследование метрики auc_roc**"
   ]
  },
  {
   "cell_type": "code",
   "execution_count": 46,
   "metadata": {},
   "outputs": [
    {
     "name": "stdout",
     "output_type": "stream",
     "text": [
      "F1-мера\n",
      "Тестовая выборка: 0.6134831460674157\n"
     ]
    }
   ],
   "source": [
    "model = RandomForestClassifier(max_depth=9, random_state=12345, class_weight='balanced', n_estimators=66)\n",
    "model.fit(features_train_scaler, target_train) # обучаем модель на тренировочной выборке\n",
    "predictions_test = model.predict(features_test_scaler) # получаем предсказания модели на валидационной выборке\n",
    "result = f1_score(target_test, predictions_test)\n",
    "print(\"F1-мера\")\n",
    "print(\"Тестовая выборка:\", result)"
   ]
  },
  {
   "cell_type": "code",
   "execution_count": 47,
   "metadata": {},
   "outputs": [
    {
     "name": "stdout",
     "output_type": "stream",
     "text": [
      "0.8542059241070291\n"
     ]
    }
   ],
   "source": [
    "# найдем значение площади под кривой\n",
    "probabilities_test = model.predict_proba(features_test_scaler)\n",
    "probabilities_one_test = probabilities_test[:, 1]\n",
    "auc_roc = roc_auc_score(target_test, probabilities_one_test)\n",
    "print(auc_roc)"
   ]
  },
  {
   "cell_type": "code",
   "execution_count": 48,
   "metadata": {},
   "outputs": [
    {
     "data": {
      "image/png": "[encoded data removed]",
      "text/plain": [
       "<Figure size 432x288 with 1 Axes>"
      ]
     },
     "metadata": {
      "needs_background": "light"
     },
     "output_type": "display_data"
    }
   ],
   "source": [
    "# построим ROC-кривую\n",
    "fpr, tpr, thresholds = roc_curve(target_test, probabilities_one_test) \n",
    "plt.figure()\n",
    "plt.plot(fpr, tpr)\n",
    "plt.xlim([0.0, 1.0])\n",
    "plt.ylim([0.0, 1.0])\n",
    "plt.plot([0, 1], [0, 1], linestyle='--')\n",
    "plt.xlabel('False Positive Rate') \n",
    "plt.ylabel('True Positive Rate')\n",
    "plt.title(\"ROC-кривая\") \n",
    "plt.show()"
   ]
  },
  {
   "cell_type": "markdown",
   "metadata": {},
   "source": [
    "**Значение метрики F1-меры лучшей модели равно 0,61.**"
   ]
  },
  {
   "cell_type": "markdown",
   "metadata": {},
   "source": [
    "## Общие выводы"
   ]
  },
  {
   "cell_type": "markdown",
   "metadata": {},
   "source": [
    "Мы познакомились с данными  клиентов «Бета-Банка». Требовалось построить модель для задачи классификации, которая спрогнозирует уйдёт клиент из банка в ближайшее время или нет. \n",
    "\n",
    "Выполнено следующее:\n",
    "\n",
    "1.Подготовка данных: \n",
    "- проверка на наличие лишних данных для обучения;\n",
    "- проверка типов данных;\n",
    "- проверка на наличие пропусков;\n",
    "- проверка на наличие выбросов;\n",
    "- кодирование категориальных признаков;\n",
    "- разбиение на выборки;\n",
    "- исследована возможность заполнения пропусков в столбце 'Tenure' и принято решение об их удалении;\n",
    "- масштабирование признаков;\n",
    "- проверка на наличие мультиколлинеарности признаков.\n",
    "\n",
    "2.Исследование задачи:\n",
    "\n",
    "- исследование данных на баланс классов. Обнаружен дисбаланс 4 к 1;\n",
    "- обучены модели \"логистическая регрессия\", \"дерево решений\", \"случайный лес\" без учета дисбаланса классов, исследованы их метрики f1-меры.\n",
    "\n",
    "3.Борьба с дисбалансом:\n",
    "\n",
    "- исследованы выше указанные модели и их метрики с использованием метода взвешивания классов;\n",
    "- применены методы upsampling и downsampling и исследованы метрики моделей.\n",
    "\n",
    "4.Тестирование модели:\n",
    "\n",
    "- лучшей выбрана модель \"случайный лес\" с гиперпараметрами random_state=12345, n_estimators=66, class_weight='balanced' и  max_depth=9;\n",
    "- получено значение F1-меры, построена и исследована ROC-кривая. Значение F1-меры получилось равное 0,61.\n",
    "\n"
   ]
  }
 ],
 "metadata": {
  "ExecuteTimeLog": [
   {
    "duration": 1043,
    "start_time": "2023-09-16T15:44:21.885Z"
   },
   {
    "duration": 98,
    "start_time": "2023-09-16T15:44:23.673Z"
   },
   {
    "duration": 16,
    "start_time": "2023-09-16T16:03:49.083Z"
   },
   {
    "duration": 5,
    "start_time": "2023-09-16T18:29:26.980Z"
   },
   {
    "duration": 107,
    "start_time": "2023-09-16T18:29:36.467Z"
   },
   {
    "duration": 13,
    "start_time": "2023-09-16T18:37:48.360Z"
   },
   {
    "duration": 12,
    "start_time": "2023-09-16T18:39:06.403Z"
   },
   {
    "duration": 1476,
    "start_time": "2023-09-16T18:39:22.666Z"
   },
   {
    "duration": 55,
    "start_time": "2023-09-16T18:39:24.144Z"
   },
   {
    "duration": 12,
    "start_time": "2023-09-16T18:39:24.200Z"
   },
   {
    "duration": 12,
    "start_time": "2023-09-16T18:39:24.214Z"
   },
   {
    "duration": 98,
    "start_time": "2023-09-16T18:39:55.096Z"
   },
   {
    "duration": 8,
    "start_time": "2023-09-16T18:40:03.152Z"
   },
   {
    "duration": 13,
    "start_time": "2023-09-16T18:41:08.030Z"
   },
   {
    "duration": 14,
    "start_time": "2023-09-16T18:41:16.453Z"
   },
   {
    "duration": 1094,
    "start_time": "2023-09-16T18:41:52.435Z"
   },
   {
    "duration": 57,
    "start_time": "2023-09-16T18:41:53.530Z"
   },
   {
    "duration": 13,
    "start_time": "2023-09-16T18:41:53.589Z"
   },
   {
    "duration": 13,
    "start_time": "2023-09-16T18:41:53.604Z"
   },
   {
    "duration": 1105,
    "start_time": "2023-09-16T18:44:51.323Z"
   },
   {
    "duration": 58,
    "start_time": "2023-09-16T18:44:52.429Z"
   },
   {
    "duration": 11,
    "start_time": "2023-09-16T18:44:52.490Z"
   },
   {
    "duration": 27,
    "start_time": "2023-09-16T18:44:52.503Z"
   },
   {
    "duration": 5,
    "start_time": "2023-09-16T18:46:50.446Z"
   },
   {
    "duration": 4,
    "start_time": "2023-09-16T18:47:06.911Z"
   },
   {
    "duration": 5,
    "start_time": "2023-09-16T18:47:23.084Z"
   },
   {
    "duration": 4,
    "start_time": "2023-09-16T18:47:37.260Z"
   },
   {
    "duration": 4,
    "start_time": "2023-09-16T18:48:08.028Z"
   },
   {
    "duration": 7,
    "start_time": "2023-09-16T18:49:30.105Z"
   },
   {
    "duration": 18,
    "start_time": "2023-09-16T19:30:31.505Z"
   },
   {
    "duration": 1115,
    "start_time": "2023-09-17T08:38:04.596Z"
   },
   {
    "duration": 108,
    "start_time": "2023-09-17T08:38:05.713Z"
   },
   {
    "duration": 13,
    "start_time": "2023-09-17T08:38:05.822Z"
   },
   {
    "duration": 38,
    "start_time": "2023-09-17T08:38:05.837Z"
   },
   {
    "duration": 8,
    "start_time": "2023-09-17T08:38:05.877Z"
   },
   {
    "duration": 48,
    "start_time": "2023-09-17T08:38:05.886Z"
   },
   {
    "duration": 5,
    "start_time": "2023-09-17T08:38:05.936Z"
   },
   {
    "duration": 27,
    "start_time": "2023-09-17T08:38:05.943Z"
   },
   {
    "duration": 4,
    "start_time": "2023-09-17T08:38:48.895Z"
   },
   {
    "duration": 97,
    "start_time": "2023-09-17T09:31:01.928Z"
   },
   {
    "duration": 20,
    "start_time": "2023-09-17T09:31:51.693Z"
   },
   {
    "duration": 17,
    "start_time": "2023-09-17T09:34:59.783Z"
   },
   {
    "duration": 1182,
    "start_time": "2023-09-17T09:35:56.919Z"
   },
   {
    "duration": 54,
    "start_time": "2023-09-17T09:35:58.103Z"
   },
   {
    "duration": 11,
    "start_time": "2023-09-17T09:35:58.159Z"
   },
   {
    "duration": 12,
    "start_time": "2023-09-17T09:35:58.172Z"
   },
   {
    "duration": 7,
    "start_time": "2023-09-17T09:35:58.186Z"
   },
   {
    "duration": 19,
    "start_time": "2023-09-17T09:35:58.195Z"
   },
   {
    "duration": 28,
    "start_time": "2023-09-17T09:35:58.215Z"
   },
   {
    "duration": 9,
    "start_time": "2023-09-17T09:35:58.245Z"
   },
   {
    "duration": 7,
    "start_time": "2023-09-17T09:35:58.255Z"
   },
   {
    "duration": 581,
    "start_time": "2023-09-17T09:35:58.264Z"
   },
   {
    "duration": 370,
    "start_time": "2023-09-17T09:36:26.080Z"
   },
   {
    "duration": 358,
    "start_time": "2023-09-17T09:36:54.187Z"
   },
   {
    "duration": 6,
    "start_time": "2023-09-17T09:37:26.448Z"
   },
   {
    "duration": 6,
    "start_time": "2023-09-17T09:37:46.393Z"
   },
   {
    "duration": 1026,
    "start_time": "2023-09-17T09:37:55.919Z"
   },
   {
    "duration": 817,
    "start_time": "2023-09-17T09:38:44.231Z"
   },
   {
    "duration": 1443,
    "start_time": "2023-09-17T09:39:20.283Z"
   },
   {
    "duration": 1058,
    "start_time": "2023-09-17T09:39:43.587Z"
   },
   {
    "duration": 1218,
    "start_time": "2023-09-17T09:39:53.794Z"
   },
   {
    "duration": 61,
    "start_time": "2023-09-17T09:39:55.014Z"
   },
   {
    "duration": 14,
    "start_time": "2023-09-17T09:39:55.078Z"
   },
   {
    "duration": 35,
    "start_time": "2023-09-17T09:39:55.093Z"
   },
   {
    "duration": 23,
    "start_time": "2023-09-17T09:39:55.130Z"
   },
   {
    "duration": 37,
    "start_time": "2023-09-17T09:39:55.155Z"
   },
   {
    "duration": 22,
    "start_time": "2023-09-17T09:39:55.194Z"
   },
   {
    "duration": 44,
    "start_time": "2023-09-17T09:39:55.218Z"
   },
   {
    "duration": 35,
    "start_time": "2023-09-17T09:39:55.263Z"
   },
   {
    "duration": 20,
    "start_time": "2023-09-17T09:39:55.300Z"
   },
   {
    "duration": 423,
    "start_time": "2023-09-17T09:39:55.321Z"
   },
   {
    "duration": 493,
    "start_time": "2023-09-17T09:41:16.663Z"
   },
   {
    "duration": 1116,
    "start_time": "2023-09-17T09:41:34.723Z"
   },
   {
    "duration": 57,
    "start_time": "2023-09-17T09:41:35.841Z"
   },
   {
    "duration": 12,
    "start_time": "2023-09-17T09:41:35.899Z"
   },
   {
    "duration": 25,
    "start_time": "2023-09-17T09:41:35.913Z"
   },
   {
    "duration": 13,
    "start_time": "2023-09-17T09:41:35.939Z"
   },
   {
    "duration": 18,
    "start_time": "2023-09-17T09:41:35.954Z"
   },
   {
    "duration": 7,
    "start_time": "2023-09-17T09:41:35.974Z"
   },
   {
    "duration": 14,
    "start_time": "2023-09-17T09:41:35.983Z"
   },
   {
    "duration": 9,
    "start_time": "2023-09-17T09:41:35.999Z"
   },
   {
    "duration": 30,
    "start_time": "2023-09-17T09:41:36.011Z"
   },
   {
    "duration": 608,
    "start_time": "2023-09-17T09:41:36.043Z"
   },
   {
    "duration": 1246,
    "start_time": "2023-09-17T09:44:07.219Z"
   },
   {
    "duration": 2476,
    "start_time": "2023-09-17T09:44:55.971Z"
   },
   {
    "duration": 1019,
    "start_time": "2023-09-17T09:46:41.955Z"
   },
   {
    "duration": 2246,
    "start_time": "2023-09-17T09:47:46.511Z"
   },
   {
    "duration": 1165,
    "start_time": "2023-09-17T09:48:09.187Z"
   },
   {
    "duration": 1118,
    "start_time": "2023-09-17T16:13:04.684Z"
   },
   {
    "duration": 1231,
    "start_time": "2023-09-17T16:13:13.442Z"
   },
   {
    "duration": 111,
    "start_time": "2023-09-17T16:13:14.675Z"
   },
   {
    "duration": 13,
    "start_time": "2023-09-17T16:13:14.788Z"
   },
   {
    "duration": 25,
    "start_time": "2023-09-17T16:13:14.803Z"
   },
   {
    "duration": 7,
    "start_time": "2023-09-17T16:13:14.829Z"
   },
   {
    "duration": 32,
    "start_time": "2023-09-17T16:13:14.838Z"
   },
   {
    "duration": 12,
    "start_time": "2023-09-17T16:13:14.872Z"
   },
   {
    "duration": 23,
    "start_time": "2023-09-17T16:13:14.886Z"
   },
   {
    "duration": 18,
    "start_time": "2023-09-17T16:13:14.911Z"
   },
   {
    "duration": 25,
    "start_time": "2023-09-17T16:13:14.931Z"
   },
   {
    "duration": 949,
    "start_time": "2023-09-17T16:13:14.958Z"
   },
   {
    "duration": 706,
    "start_time": "2023-09-17T16:14:20.796Z"
   },
   {
    "duration": 668,
    "start_time": "2023-09-17T16:14:36.835Z"
   },
   {
    "duration": 742,
    "start_time": "2023-09-17T16:20:02.660Z"
   },
   {
    "duration": 972,
    "start_time": "2023-09-17T16:20:17.242Z"
   },
   {
    "duration": 669,
    "start_time": "2023-09-17T16:20:28.734Z"
   },
   {
    "duration": 806,
    "start_time": "2023-09-17T16:20:54.497Z"
   },
   {
    "duration": 1176,
    "start_time": "2023-09-17T16:21:20.126Z"
   },
   {
    "duration": 545,
    "start_time": "2023-09-17T16:21:42.557Z"
   },
   {
    "duration": 2099,
    "start_time": "2023-09-17T16:27:26.316Z"
   },
   {
    "duration": 2284,
    "start_time": "2023-09-17T16:27:41.519Z"
   },
   {
    "duration": 1254,
    "start_time": "2023-09-17T16:30:18.649Z"
   },
   {
    "duration": 1359,
    "start_time": "2023-09-17T16:38:44.946Z"
   },
   {
    "duration": 1456,
    "start_time": "2023-09-17T16:39:08.458Z"
   },
   {
    "duration": 13,
    "start_time": "2023-09-17T16:40:03.813Z"
   },
   {
    "duration": 1244,
    "start_time": "2023-09-17T16:48:03.222Z"
   },
   {
    "duration": 62,
    "start_time": "2023-09-17T16:48:04.468Z"
   },
   {
    "duration": 18,
    "start_time": "2023-09-17T16:48:04.532Z"
   },
   {
    "duration": 62,
    "start_time": "2023-09-17T16:48:04.553Z"
   },
   {
    "duration": 49,
    "start_time": "2023-09-17T16:48:04.617Z"
   },
   {
    "duration": 37,
    "start_time": "2023-09-17T16:48:04.668Z"
   },
   {
    "duration": 7,
    "start_time": "2023-09-17T16:48:04.708Z"
   },
   {
    "duration": 51,
    "start_time": "2023-09-17T16:48:04.717Z"
   },
   {
    "duration": 24,
    "start_time": "2023-09-17T16:48:04.771Z"
   },
   {
    "duration": 13,
    "start_time": "2023-09-17T16:48:04.797Z"
   },
   {
    "duration": 1197,
    "start_time": "2023-09-17T16:48:04.812Z"
   },
   {
    "duration": 10,
    "start_time": "2023-09-17T16:48:06.011Z"
   },
   {
    "duration": 40,
    "start_time": "2023-09-17T16:48:06.024Z"
   },
   {
    "duration": 106,
    "start_time": "2023-09-17T17:29:44.347Z"
   },
   {
    "duration": 5,
    "start_time": "2023-09-17T17:30:17.146Z"
   },
   {
    "duration": 1863,
    "start_time": "2023-09-17T17:34:38.959Z"
   },
   {
    "duration": 1169,
    "start_time": "2023-09-17T17:34:44.051Z"
   },
   {
    "duration": 58,
    "start_time": "2023-09-17T17:34:45.222Z"
   },
   {
    "duration": 12,
    "start_time": "2023-09-17T17:34:45.282Z"
   },
   {
    "duration": 51,
    "start_time": "2023-09-17T17:34:45.296Z"
   },
   {
    "duration": 10,
    "start_time": "2023-09-17T17:34:45.349Z"
   },
   {
    "duration": 1606,
    "start_time": "2023-09-17T17:34:45.360Z"
   },
   {
    "duration": 33,
    "start_time": "2023-09-17T17:34:46.968Z"
   },
   {
    "duration": 82,
    "start_time": "2023-09-17T17:34:47.003Z"
   },
   {
    "duration": 21,
    "start_time": "2023-09-17T17:34:47.087Z"
   },
   {
    "duration": 15,
    "start_time": "2023-09-17T17:34:47.110Z"
   },
   {
    "duration": 8,
    "start_time": "2023-09-17T17:34:47.126Z"
   },
   {
    "duration": 969,
    "start_time": "2023-09-17T17:34:47.135Z"
   },
   {
    "duration": 5,
    "start_time": "2023-09-17T17:34:48.106Z"
   },
   {
    "duration": 93,
    "start_time": "2023-09-17T17:34:48.112Z"
   },
   {
    "duration": 15,
    "start_time": "2023-09-17T17:34:48.207Z"
   },
   {
    "duration": 360,
    "start_time": "2023-09-17T17:39:48.385Z"
   },
   {
    "duration": 1812,
    "start_time": "2023-09-18T18:23:04.815Z"
   },
   {
    "duration": 188,
    "start_time": "2023-09-18T18:23:06.629Z"
   },
   {
    "duration": 15,
    "start_time": "2023-09-18T18:23:06.818Z"
   },
   {
    "duration": 24,
    "start_time": "2023-09-18T18:23:06.836Z"
   },
   {
    "duration": 8,
    "start_time": "2023-09-18T18:23:06.861Z"
   },
   {
    "duration": 123,
    "start_time": "2023-09-18T18:23:06.870Z"
   },
   {
    "duration": 23,
    "start_time": "2023-09-18T18:23:06.995Z"
   },
   {
    "duration": 34,
    "start_time": "2023-09-18T18:23:07.020Z"
   },
   {
    "duration": 39,
    "start_time": "2023-09-18T18:23:07.056Z"
   },
   {
    "duration": 6,
    "start_time": "2023-09-18T18:23:07.097Z"
   },
   {
    "duration": 9,
    "start_time": "2023-09-18T18:23:07.105Z"
   },
   {
    "duration": 1343,
    "start_time": "2023-09-18T18:23:07.116Z"
   },
   {
    "duration": 5,
    "start_time": "2023-09-18T18:23:08.461Z"
   },
   {
    "duration": 31,
    "start_time": "2023-09-18T18:23:08.468Z"
   },
   {
    "duration": 13,
    "start_time": "2023-09-18T18:23:08.501Z"
   },
   {
    "duration": 131,
    "start_time": "2023-09-18T18:24:00.197Z"
   },
   {
    "duration": 96,
    "start_time": "2023-09-18T18:24:25.596Z"
   },
   {
    "duration": 129,
    "start_time": "2023-09-18T18:26:38.938Z"
   },
   {
    "duration": 209,
    "start_time": "2023-09-18T18:27:11.262Z"
   },
   {
    "duration": 113,
    "start_time": "2023-09-18T18:27:41.318Z"
   },
   {
    "duration": 94,
    "start_time": "2023-09-18T18:28:51.789Z"
   },
   {
    "duration": 98,
    "start_time": "2023-09-18T18:29:05.519Z"
   },
   {
    "duration": 1610,
    "start_time": "2023-09-18T18:43:46.624Z"
   },
   {
    "duration": 58,
    "start_time": "2023-09-18T18:43:48.235Z"
   },
   {
    "duration": 14,
    "start_time": "2023-09-18T18:43:48.295Z"
   },
   {
    "duration": 20,
    "start_time": "2023-09-18T18:43:48.311Z"
   },
   {
    "duration": 9,
    "start_time": "2023-09-18T18:43:48.333Z"
   },
   {
    "duration": 109,
    "start_time": "2023-09-18T18:43:48.356Z"
   },
   {
    "duration": 129,
    "start_time": "2023-09-18T18:43:48.467Z"
   },
   {
    "duration": 106,
    "start_time": "2023-09-18T18:43:48.598Z"
   },
   {
    "duration": 22,
    "start_time": "2023-09-18T18:43:48.706Z"
   },
   {
    "duration": 7,
    "start_time": "2023-09-18T18:43:48.730Z"
   },
   {
    "duration": 25,
    "start_time": "2023-09-18T18:43:48.738Z"
   },
   {
    "duration": 293,
    "start_time": "2023-09-18T18:43:48.765Z"
   },
   {
    "duration": 222,
    "start_time": "2023-09-18T18:43:49.060Z"
   },
   {
    "duration": 674,
    "start_time": "2023-09-18T18:43:49.283Z"
   },
   {
    "duration": 5,
    "start_time": "2023-09-18T18:43:49.958Z"
   },
   {
    "duration": 20,
    "start_time": "2023-09-18T18:43:49.965Z"
   },
   {
    "duration": 12,
    "start_time": "2023-09-18T18:43:49.988Z"
   },
   {
    "duration": 130,
    "start_time": "2023-09-18T18:44:10.721Z"
   },
   {
    "duration": 13,
    "start_time": "2023-09-18T18:44:29.838Z"
   },
   {
    "duration": 11,
    "start_time": "2023-09-18T18:45:43.217Z"
   },
   {
    "duration": 12,
    "start_time": "2023-09-18T18:45:48.778Z"
   },
   {
    "duration": 4,
    "start_time": "2023-09-18T18:45:50.180Z"
   },
   {
    "duration": 17,
    "start_time": "2023-09-18T18:46:04.877Z"
   },
   {
    "duration": 15,
    "start_time": "2023-09-18T18:48:47.628Z"
   },
   {
    "duration": 17,
    "start_time": "2023-09-18T18:48:51.152Z"
   },
   {
    "duration": 1575,
    "start_time": "2023-09-21T07:19:06.684Z"
   },
   {
    "duration": 98,
    "start_time": "2023-09-21T07:19:08.261Z"
   },
   {
    "duration": 12,
    "start_time": "2023-09-21T07:19:08.361Z"
   },
   {
    "duration": 27,
    "start_time": "2023-09-21T07:19:08.374Z"
   },
   {
    "duration": 6,
    "start_time": "2023-09-21T07:19:08.404Z"
   },
   {
    "duration": 98,
    "start_time": "2023-09-21T07:19:08.412Z"
   },
   {
    "duration": 92,
    "start_time": "2023-09-21T07:19:08.512Z"
   },
   {
    "duration": 86,
    "start_time": "2023-09-21T07:19:08.606Z"
   },
   {
    "duration": 16,
    "start_time": "2023-09-21T07:19:08.693Z"
   },
   {
    "duration": 22,
    "start_time": "2023-09-21T07:19:08.711Z"
   },
   {
    "duration": 15,
    "start_time": "2023-09-21T07:19:08.734Z"
   },
   {
    "duration": 92,
    "start_time": "2023-09-21T07:19:08.750Z"
   },
   {
    "duration": 25,
    "start_time": "2023-09-21T07:19:08.844Z"
   },
   {
    "duration": 788,
    "start_time": "2023-09-21T07:19:08.871Z"
   },
   {
    "duration": 5,
    "start_time": "2023-09-21T07:19:09.750Z"
   },
   {
    "duration": 44,
    "start_time": "2023-09-21T07:19:09.756Z"
   },
   {
    "duration": 21,
    "start_time": "2023-09-21T07:19:09.802Z"
   },
   {
    "duration": 21,
    "start_time": "2023-09-21T07:19:09.825Z"
   },
   {
    "duration": 960,
    "start_time": "2023-09-21T07:19:09.848Z"
   },
   {
    "duration": 893,
    "start_time": "2023-09-21T07:20:03.688Z"
   },
   {
    "duration": 194,
    "start_time": "2023-09-21T07:20:59.383Z"
   },
   {
    "duration": 98,
    "start_time": "2023-09-21T07:22:53.818Z"
   },
   {
    "duration": 981,
    "start_time": "2023-09-21T07:24:09.051Z"
   },
   {
    "duration": 1086,
    "start_time": "2023-09-21T07:24:25.875Z"
   },
   {
    "duration": 1038,
    "start_time": "2023-09-21T07:24:36.084Z"
   },
   {
    "duration": 7,
    "start_time": "2023-09-21T07:36:01.474Z"
   },
   {
    "duration": 100,
    "start_time": "2023-09-21T07:36:23.081Z"
   },
   {
    "duration": 144,
    "start_time": "2023-09-21T08:05:39.054Z"
   },
   {
    "duration": 23,
    "start_time": "2023-09-21T08:10:25.876Z"
   },
   {
    "duration": 19,
    "start_time": "2023-09-21T08:17:42.565Z"
   },
   {
    "duration": 19,
    "start_time": "2023-09-21T08:36:06.613Z"
   },
   {
    "duration": 56,
    "start_time": "2023-09-21T08:43:52.359Z"
   },
   {
    "duration": 72,
    "start_time": "2023-09-21T08:44:07.260Z"
   },
   {
    "duration": 403,
    "start_time": "2023-09-21T08:47:59.619Z"
   },
   {
    "duration": 266,
    "start_time": "2023-09-21T08:48:35.998Z"
   },
   {
    "duration": 440,
    "start_time": "2023-09-21T08:49:00.920Z"
   },
   {
    "duration": 335,
    "start_time": "2023-09-21T08:49:22.385Z"
   },
   {
    "duration": 418,
    "start_time": "2023-09-21T08:50:31.010Z"
   },
   {
    "duration": 45,
    "start_time": "2023-09-21T08:50:57.884Z"
   },
   {
    "duration": 44,
    "start_time": "2023-09-21T08:51:34.118Z"
   },
   {
    "duration": 427,
    "start_time": "2023-09-21T08:51:55.562Z"
   },
   {
    "duration": 21,
    "start_time": "2023-09-21T08:57:32.114Z"
   },
   {
    "duration": 46,
    "start_time": "2023-09-21T08:59:58.071Z"
   },
   {
    "duration": 75,
    "start_time": "2023-09-21T09:22:14.163Z"
   },
   {
    "duration": 1296,
    "start_time": "2023-09-21T09:23:38.046Z"
   },
   {
    "duration": 2831,
    "start_time": "2023-09-21T09:23:49.743Z"
   },
   {
    "duration": 58,
    "start_time": "2023-09-21T09:24:13.705Z"
   },
   {
    "duration": 44,
    "start_time": "2023-09-21T09:24:22.163Z"
   },
   {
    "duration": 77,
    "start_time": "2023-09-21T09:24:41.865Z"
   },
   {
    "duration": 85,
    "start_time": "2023-09-21T09:24:48.237Z"
   },
   {
    "duration": 56,
    "start_time": "2023-09-21T09:25:13.934Z"
   },
   {
    "duration": 60,
    "start_time": "2023-09-21T09:25:19.741Z"
   },
   {
    "duration": 43,
    "start_time": "2023-09-21T09:25:24.468Z"
   },
   {
    "duration": 421,
    "start_time": "2023-09-21T09:26:06.956Z"
   },
   {
    "duration": 489,
    "start_time": "2023-09-21T09:26:27.728Z"
   },
   {
    "duration": 54,
    "start_time": "2023-09-21T09:27:04.873Z"
   },
   {
    "duration": 466,
    "start_time": "2023-09-21T09:27:56.043Z"
   },
   {
    "duration": 416,
    "start_time": "2023-09-21T13:32:47.088Z"
   },
   {
    "duration": 21,
    "start_time": "2023-09-21T14:03:13.718Z"
   },
   {
    "duration": 12,
    "start_time": "2023-09-21T14:06:35.484Z"
   },
   {
    "duration": 5,
    "start_time": "2023-09-21T14:09:20.717Z"
   },
   {
    "duration": 4,
    "start_time": "2023-09-21T14:09:32.936Z"
   },
   {
    "duration": 3,
    "start_time": "2023-09-21T14:09:57.726Z"
   },
   {
    "duration": 3,
    "start_time": "2023-09-21T14:11:28.821Z"
   },
   {
    "duration": 12,
    "start_time": "2023-09-21T14:28:17.078Z"
   },
   {
    "duration": 5,
    "start_time": "2023-09-21T15:06:41.049Z"
   },
   {
    "duration": 14,
    "start_time": "2023-09-21T15:08:03.283Z"
   },
   {
    "duration": 12,
    "start_time": "2023-09-21T15:12:27.881Z"
   },
   {
    "duration": 6,
    "start_time": "2023-09-21T15:12:42.437Z"
   },
   {
    "duration": 11,
    "start_time": "2023-09-21T15:14:38.911Z"
   },
   {
    "duration": 1555,
    "start_time": "2023-09-21T15:15:15.661Z"
   },
   {
    "duration": 56,
    "start_time": "2023-09-21T15:15:17.218Z"
   },
   {
    "duration": 13,
    "start_time": "2023-09-21T15:15:17.276Z"
   },
   {
    "duration": 20,
    "start_time": "2023-09-21T15:15:17.292Z"
   },
   {
    "duration": 7,
    "start_time": "2023-09-21T15:15:17.314Z"
   },
   {
    "duration": 112,
    "start_time": "2023-09-21T15:15:17.322Z"
   },
   {
    "duration": 122,
    "start_time": "2023-09-21T15:15:17.436Z"
   },
   {
    "duration": 109,
    "start_time": "2023-09-21T15:15:17.560Z"
   },
   {
    "duration": 18,
    "start_time": "2023-09-21T15:15:17.671Z"
   },
   {
    "duration": 17,
    "start_time": "2023-09-21T15:15:17.692Z"
   },
   {
    "duration": 26,
    "start_time": "2023-09-21T15:15:17.710Z"
   },
   {
    "duration": 20,
    "start_time": "2023-09-21T15:15:17.738Z"
   },
   {
    "duration": 32,
    "start_time": "2023-09-21T15:15:17.759Z"
   },
   {
    "duration": 1058,
    "start_time": "2023-09-21T15:15:17.792Z"
   },
   {
    "duration": 5,
    "start_time": "2023-09-21T15:15:18.852Z"
   },
   {
    "duration": 21,
    "start_time": "2023-09-21T15:15:18.859Z"
   },
   {
    "duration": 25,
    "start_time": "2023-09-21T15:15:18.882Z"
   },
   {
    "duration": 21,
    "start_time": "2023-09-21T15:15:18.909Z"
   },
   {
    "duration": 24,
    "start_time": "2023-09-21T15:15:18.932Z"
   },
   {
    "duration": 1130,
    "start_time": "2023-09-21T15:15:18.958Z"
   },
   {
    "duration": 122,
    "start_time": "2023-09-21T15:15:20.091Z"
   },
   {
    "duration": 110,
    "start_time": "2023-09-21T15:15:20.215Z"
   },
   {
    "duration": 222,
    "start_time": "2023-09-21T15:15:20.327Z"
   },
   {
    "duration": 60,
    "start_time": "2023-09-21T15:15:20.551Z"
   },
   {
    "duration": 443,
    "start_time": "2023-09-21T15:15:20.613Z"
   },
   {
    "duration": 19,
    "start_time": "2023-09-21T15:15:21.058Z"
   },
   {
    "duration": 241,
    "start_time": "2023-09-21T15:15:21.080Z"
   },
   {
    "duration": 451,
    "start_time": "2023-09-21T15:15:21.324Z"
   },
   {
    "duration": 73,
    "start_time": "2023-09-21T15:15:21.777Z"
   },
   {
    "duration": 116,
    "start_time": "2023-09-21T15:15:21.852Z"
   },
   {
    "duration": 0,
    "start_time": "2023-09-21T15:15:21.970Z"
   },
   {
    "duration": 0,
    "start_time": "2023-09-21T15:15:21.971Z"
   },
   {
    "duration": 0,
    "start_time": "2023-09-21T15:15:21.972Z"
   },
   {
    "duration": 18,
    "start_time": "2023-09-21T15:16:04.135Z"
   },
   {
    "duration": 23,
    "start_time": "2023-09-21T15:17:24.485Z"
   },
   {
    "duration": 16,
    "start_time": "2023-09-21T15:17:53.465Z"
   },
   {
    "duration": 6,
    "start_time": "2023-09-21T15:18:50.792Z"
   },
   {
    "duration": 1553,
    "start_time": "2023-09-21T15:19:01.961Z"
   },
   {
    "duration": 71,
    "start_time": "2023-09-21T15:19:03.516Z"
   },
   {
    "duration": 18,
    "start_time": "2023-09-21T15:19:03.589Z"
   },
   {
    "duration": 33,
    "start_time": "2023-09-21T15:19:03.610Z"
   },
   {
    "duration": 20,
    "start_time": "2023-09-21T15:19:03.645Z"
   },
   {
    "duration": 103,
    "start_time": "2023-09-21T15:19:03.666Z"
   },
   {
    "duration": 100,
    "start_time": "2023-09-21T15:19:03.771Z"
   },
   {
    "duration": 97,
    "start_time": "2023-09-21T15:19:03.872Z"
   },
   {
    "duration": 18,
    "start_time": "2023-09-21T15:19:03.970Z"
   },
   {
    "duration": 7,
    "start_time": "2023-09-21T15:19:03.991Z"
   },
   {
    "duration": 17,
    "start_time": "2023-09-21T15:19:03.999Z"
   },
   {
    "duration": 7,
    "start_time": "2023-09-21T15:19:04.017Z"
   },
   {
    "duration": 59,
    "start_time": "2023-09-21T15:19:04.027Z"
   },
   {
    "duration": 1466,
    "start_time": "2023-09-21T15:19:04.088Z"
   },
   {
    "duration": 4,
    "start_time": "2023-09-21T15:19:05.555Z"
   },
   {
    "duration": 35,
    "start_time": "2023-09-21T15:19:05.560Z"
   },
   {
    "duration": 50,
    "start_time": "2023-09-21T15:19:05.597Z"
   },
   {
    "duration": 23,
    "start_time": "2023-09-21T15:19:05.648Z"
   },
   {
    "duration": 44,
    "start_time": "2023-09-21T15:19:05.673Z"
   },
   {
    "duration": 1183,
    "start_time": "2023-09-21T15:19:05.719Z"
   },
   {
    "duration": 128,
    "start_time": "2023-09-21T15:19:06.904Z"
   },
   {
    "duration": 118,
    "start_time": "2023-09-21T15:19:07.033Z"
   },
   {
    "duration": 98,
    "start_time": "2023-09-21T15:19:07.152Z"
   },
   {
    "duration": 143,
    "start_time": "2023-09-21T15:19:07.253Z"
   },
   {
    "duration": 422,
    "start_time": "2023-09-21T15:19:07.398Z"
   },
   {
    "duration": 39,
    "start_time": "2023-09-21T15:19:07.821Z"
   },
   {
    "duration": 242,
    "start_time": "2023-09-21T15:19:07.862Z"
   },
   {
    "duration": 450,
    "start_time": "2023-09-21T15:19:08.109Z"
   },
   {
    "duration": 43,
    "start_time": "2023-09-21T15:19:08.561Z"
   },
   {
    "duration": 122,
    "start_time": "2023-09-21T15:19:08.605Z"
   },
   {
    "duration": 0,
    "start_time": "2023-09-21T15:19:08.729Z"
   },
   {
    "duration": 0,
    "start_time": "2023-09-21T15:19:08.730Z"
   },
   {
    "duration": 0,
    "start_time": "2023-09-21T15:19:08.731Z"
   },
   {
    "duration": 1389,
    "start_time": "2023-09-21T15:40:40.711Z"
   },
   {
    "duration": 57,
    "start_time": "2023-09-21T15:40:42.102Z"
   },
   {
    "duration": 14,
    "start_time": "2023-09-21T15:40:42.161Z"
   },
   {
    "duration": 34,
    "start_time": "2023-09-21T15:40:42.177Z"
   },
   {
    "duration": 12,
    "start_time": "2023-09-21T15:40:42.213Z"
   },
   {
    "duration": 97,
    "start_time": "2023-09-21T15:40:42.227Z"
   },
   {
    "duration": 109,
    "start_time": "2023-09-21T15:40:42.326Z"
   },
   {
    "duration": 115,
    "start_time": "2023-09-21T15:40:42.438Z"
   },
   {
    "duration": 24,
    "start_time": "2023-09-21T15:40:42.555Z"
   },
   {
    "duration": 10,
    "start_time": "2023-09-21T15:40:42.582Z"
   },
   {
    "duration": 26,
    "start_time": "2023-09-21T15:40:42.593Z"
   },
   {
    "duration": 24,
    "start_time": "2023-09-21T15:40:42.621Z"
   },
   {
    "duration": 23,
    "start_time": "2023-09-21T15:40:42.647Z"
   },
   {
    "duration": 984,
    "start_time": "2023-09-21T15:40:42.672Z"
   },
   {
    "duration": 88,
    "start_time": "2023-09-21T15:40:43.662Z"
   },
   {
    "duration": 6,
    "start_time": "2023-09-21T15:40:43.752Z"
   },
   {
    "duration": 32,
    "start_time": "2023-09-21T15:40:43.760Z"
   },
   {
    "duration": 33,
    "start_time": "2023-09-21T15:40:43.794Z"
   },
   {
    "duration": 24,
    "start_time": "2023-09-21T15:40:43.828Z"
   },
   {
    "duration": 1110,
    "start_time": "2023-09-21T15:40:43.854Z"
   },
   {
    "duration": 142,
    "start_time": "2023-09-21T15:40:44.966Z"
   },
   {
    "duration": 264,
    "start_time": "2023-09-21T15:40:45.110Z"
   },
   {
    "duration": 23,
    "start_time": "2023-09-21T15:40:45.376Z"
   },
   {
    "duration": 201,
    "start_time": "2023-09-21T15:40:45.453Z"
   },
   {
    "duration": 490,
    "start_time": "2023-09-21T15:40:45.656Z"
   },
   {
    "duration": 29,
    "start_time": "2023-09-21T15:40:46.149Z"
   },
   {
    "duration": 252,
    "start_time": "2023-09-21T15:40:46.180Z"
   },
   {
    "duration": 458,
    "start_time": "2023-09-21T15:40:46.435Z"
   },
   {
    "duration": 55,
    "start_time": "2023-09-21T15:40:46.895Z"
   },
   {
    "duration": 7,
    "start_time": "2023-09-21T15:40:46.952Z"
   },
   {
    "duration": 64,
    "start_time": "2023-09-21T15:40:46.961Z"
   },
   {
    "duration": 73,
    "start_time": "2023-09-21T15:40:47.027Z"
   },
   {
    "duration": 117,
    "start_time": "2023-09-21T15:41:07.527Z"
   },
   {
    "duration": 55,
    "start_time": "2023-09-22T14:29:49.222Z"
   },
   {
    "duration": 1710,
    "start_time": "2023-09-22T14:30:06.692Z"
   },
   {
    "duration": 100,
    "start_time": "2023-09-22T14:30:08.404Z"
   },
   {
    "duration": 13,
    "start_time": "2023-09-22T14:30:08.509Z"
   },
   {
    "duration": 41,
    "start_time": "2023-09-22T14:30:08.524Z"
   },
   {
    "duration": 46,
    "start_time": "2023-09-22T14:30:08.566Z"
   },
   {
    "duration": 143,
    "start_time": "2023-09-22T14:30:08.613Z"
   },
   {
    "duration": 110,
    "start_time": "2023-09-22T14:30:08.758Z"
   },
   {
    "duration": 131,
    "start_time": "2023-09-22T14:30:08.870Z"
   },
   {
    "duration": 20,
    "start_time": "2023-09-22T14:30:09.004Z"
   },
   {
    "duration": 136,
    "start_time": "2023-09-22T14:30:09.026Z"
   },
   {
    "duration": 27,
    "start_time": "2023-09-22T14:30:09.164Z"
   },
   {
    "duration": 38,
    "start_time": "2023-09-22T14:30:09.193Z"
   },
   {
    "duration": 46,
    "start_time": "2023-09-22T14:30:09.233Z"
   },
   {
    "duration": 820,
    "start_time": "2023-09-22T14:30:09.282Z"
   },
   {
    "duration": 6,
    "start_time": "2023-09-22T14:30:10.104Z"
   },
   {
    "duration": 19,
    "start_time": "2023-09-22T14:30:10.203Z"
   },
   {
    "duration": 24,
    "start_time": "2023-09-22T14:30:10.224Z"
   },
   {
    "duration": 28,
    "start_time": "2023-09-22T14:30:10.250Z"
   },
   {
    "duration": 40,
    "start_time": "2023-09-22T14:30:10.279Z"
   },
   {
    "duration": 1221,
    "start_time": "2023-09-22T14:30:10.321Z"
   },
   {
    "duration": 129,
    "start_time": "2023-09-22T14:30:11.545Z"
   },
   {
    "duration": 140,
    "start_time": "2023-09-22T14:30:11.676Z"
   },
   {
    "duration": 85,
    "start_time": "2023-09-22T14:30:11.818Z"
   },
   {
    "duration": 163,
    "start_time": "2023-09-22T14:30:11.905Z"
   },
   {
    "duration": 523,
    "start_time": "2023-09-22T14:30:12.070Z"
   },
   {
    "duration": 110,
    "start_time": "2023-09-22T14:30:12.595Z"
   },
   {
    "duration": 181,
    "start_time": "2023-09-22T14:30:12.713Z"
   },
   {
    "duration": 520,
    "start_time": "2023-09-22T14:30:12.897Z"
   },
   {
    "duration": 56,
    "start_time": "2023-09-22T14:30:13.419Z"
   },
   {
    "duration": 151,
    "start_time": "2023-09-22T14:30:13.477Z"
   },
   {
    "duration": 0,
    "start_time": "2023-09-22T14:30:13.631Z"
   },
   {
    "duration": 0,
    "start_time": "2023-09-22T14:30:13.633Z"
   },
   {
    "duration": 1609,
    "start_time": "2023-09-22T14:30:47.189Z"
   },
   {
    "duration": 57,
    "start_time": "2023-09-22T14:30:48.800Z"
   },
   {
    "duration": 15,
    "start_time": "2023-09-22T14:30:48.858Z"
   },
   {
    "duration": 43,
    "start_time": "2023-09-22T14:30:48.875Z"
   },
   {
    "duration": 29,
    "start_time": "2023-09-22T14:30:48.920Z"
   },
   {
    "duration": 131,
    "start_time": "2023-09-22T14:30:48.950Z"
   },
   {
    "duration": 111,
    "start_time": "2023-09-22T14:30:49.082Z"
   },
   {
    "duration": 325,
    "start_time": "2023-09-22T14:30:49.201Z"
   },
   {
    "duration": 20,
    "start_time": "2023-09-22T14:30:49.528Z"
   },
   {
    "duration": 15,
    "start_time": "2023-09-22T14:30:49.551Z"
   },
   {
    "duration": 22,
    "start_time": "2023-09-22T14:30:49.568Z"
   },
   {
    "duration": 39,
    "start_time": "2023-09-22T14:30:49.592Z"
   },
   {
    "duration": 33,
    "start_time": "2023-09-22T14:30:49.633Z"
   },
   {
    "duration": 1342,
    "start_time": "2023-09-22T14:30:49.668Z"
   },
   {
    "duration": 5,
    "start_time": "2023-09-22T14:30:51.111Z"
   },
   {
    "duration": 29,
    "start_time": "2023-09-22T14:30:51.118Z"
   },
   {
    "duration": 28,
    "start_time": "2023-09-22T14:30:51.149Z"
   },
   {
    "duration": 29,
    "start_time": "2023-09-22T14:30:51.179Z"
   },
   {
    "duration": 49,
    "start_time": "2023-09-22T14:30:51.209Z"
   },
   {
    "duration": 1262,
    "start_time": "2023-09-22T14:30:51.260Z"
   },
   {
    "duration": 134,
    "start_time": "2023-09-22T14:30:52.524Z"
   },
   {
    "duration": 127,
    "start_time": "2023-09-22T14:30:52.661Z"
   },
   {
    "duration": 112,
    "start_time": "2023-09-22T14:30:52.790Z"
   },
   {
    "duration": 164,
    "start_time": "2023-09-22T14:30:52.904Z"
   },
   {
    "duration": 492,
    "start_time": "2023-09-22T14:30:53.069Z"
   },
   {
    "duration": 43,
    "start_time": "2023-09-22T14:30:53.562Z"
   },
   {
    "duration": 205,
    "start_time": "2023-09-22T14:30:53.607Z"
   },
   {
    "duration": 507,
    "start_time": "2023-09-22T14:30:53.816Z"
   },
   {
    "duration": 50,
    "start_time": "2023-09-22T14:30:54.325Z"
   },
   {
    "duration": 29,
    "start_time": "2023-09-22T14:30:54.377Z"
   },
   {
    "duration": 23,
    "start_time": "2023-09-22T14:30:54.407Z"
   },
   {
    "duration": 73,
    "start_time": "2023-09-22T14:30:54.432Z"
   },
   {
    "duration": 12,
    "start_time": "2023-09-22T14:37:42.926Z"
   },
   {
    "duration": 122,
    "start_time": "2023-09-22T14:37:43.855Z"
   },
   {
    "duration": 10,
    "start_time": "2023-09-22T14:38:48.132Z"
   },
   {
    "duration": 12,
    "start_time": "2023-09-22T14:41:44.427Z"
   },
   {
    "duration": 13,
    "start_time": "2023-09-22T14:41:45.178Z"
   },
   {
    "duration": 109,
    "start_time": "2023-09-22T14:43:09.206Z"
   },
   {
    "duration": 13,
    "start_time": "2023-09-22T14:45:04.162Z"
   },
   {
    "duration": 101,
    "start_time": "2023-09-22T14:45:06.058Z"
   },
   {
    "duration": 8,
    "start_time": "2023-09-22T14:49:23.851Z"
   },
   {
    "duration": 608,
    "start_time": "2023-09-22T14:51:43.200Z"
   },
   {
    "duration": 4,
    "start_time": "2023-09-22T14:51:44.499Z"
   },
   {
    "duration": 6,
    "start_time": "2023-09-22T14:51:45.391Z"
   },
   {
    "duration": 13,
    "start_time": "2023-09-22T14:53:20.992Z"
   },
   {
    "duration": 16,
    "start_time": "2023-09-22T14:53:22.510Z"
   },
   {
    "duration": 34,
    "start_time": "2023-09-22T14:57:56.373Z"
   },
   {
    "duration": 58,
    "start_time": "2023-09-22T15:01:26.942Z"
   },
   {
    "duration": 418,
    "start_time": "2023-09-22T15:04:01.515Z"
   },
   {
    "duration": 69,
    "start_time": "2023-09-22T15:05:04.191Z"
   },
   {
    "duration": 37,
    "start_time": "2023-09-22T15:14:51.993Z"
   },
   {
    "duration": 192,
    "start_time": "2023-09-22T15:19:07.886Z"
   },
   {
    "duration": 155,
    "start_time": "2023-09-22T15:19:55.947Z"
   },
   {
    "duration": 186,
    "start_time": "2023-09-22T15:22:33.136Z"
   },
   {
    "duration": 263,
    "start_time": "2023-09-22T15:23:44.864Z"
   },
   {
    "duration": 249,
    "start_time": "2023-09-22T15:24:09.195Z"
   },
   {
    "duration": 263,
    "start_time": "2023-09-22T15:24:25.663Z"
   },
   {
    "duration": 1632,
    "start_time": "2023-09-22T15:44:32.650Z"
   },
   {
    "duration": 60,
    "start_time": "2023-09-22T15:44:34.284Z"
   },
   {
    "duration": 15,
    "start_time": "2023-09-22T15:44:34.345Z"
   },
   {
    "duration": 32,
    "start_time": "2023-09-22T15:44:34.362Z"
   },
   {
    "duration": 27,
    "start_time": "2023-09-22T15:44:34.396Z"
   },
   {
    "duration": 131,
    "start_time": "2023-09-22T15:44:34.425Z"
   },
   {
    "duration": 158,
    "start_time": "2023-09-22T15:44:34.559Z"
   },
   {
    "duration": 117,
    "start_time": "2023-09-22T15:44:34.720Z"
   },
   {
    "duration": 20,
    "start_time": "2023-09-22T15:44:34.839Z"
   },
   {
    "duration": 52,
    "start_time": "2023-09-22T15:44:34.863Z"
   },
   {
    "duration": 80,
    "start_time": "2023-09-22T15:44:34.916Z"
   },
   {
    "duration": 126,
    "start_time": "2023-09-22T15:44:34.998Z"
   },
   {
    "duration": 54,
    "start_time": "2023-09-22T15:44:35.126Z"
   },
   {
    "duration": 1119,
    "start_time": "2023-09-22T15:44:35.182Z"
   },
   {
    "duration": 5,
    "start_time": "2023-09-22T15:44:36.304Z"
   },
   {
    "duration": 66,
    "start_time": "2023-09-22T15:44:36.312Z"
   },
   {
    "duration": 45,
    "start_time": "2023-09-22T15:44:36.380Z"
   },
   {
    "duration": 31,
    "start_time": "2023-09-22T15:44:36.428Z"
   },
   {
    "duration": 1221,
    "start_time": "2023-09-22T15:44:36.461Z"
   },
   {
    "duration": 130,
    "start_time": "2023-09-22T15:44:37.684Z"
   },
   {
    "duration": 135,
    "start_time": "2023-09-22T15:44:37.816Z"
   },
   {
    "duration": 61,
    "start_time": "2023-09-22T15:44:37.954Z"
   },
   {
    "duration": 303,
    "start_time": "2023-09-22T15:44:38.102Z"
   },
   {
    "duration": 0,
    "start_time": "2023-09-22T15:44:38.407Z"
   },
   {
    "duration": 0,
    "start_time": "2023-09-22T15:44:38.408Z"
   },
   {
    "duration": 0,
    "start_time": "2023-09-22T15:44:38.410Z"
   },
   {
    "duration": 0,
    "start_time": "2023-09-22T15:44:38.411Z"
   },
   {
    "duration": 0,
    "start_time": "2023-09-22T15:44:38.413Z"
   },
   {
    "duration": 0,
    "start_time": "2023-09-22T15:44:38.414Z"
   },
   {
    "duration": 0,
    "start_time": "2023-09-22T15:44:38.416Z"
   },
   {
    "duration": 0,
    "start_time": "2023-09-22T15:44:38.417Z"
   },
   {
    "duration": 0,
    "start_time": "2023-09-22T15:44:38.419Z"
   },
   {
    "duration": 0,
    "start_time": "2023-09-22T15:44:38.420Z"
   },
   {
    "duration": 0,
    "start_time": "2023-09-22T15:44:38.421Z"
   },
   {
    "duration": 1,
    "start_time": "2023-09-22T15:44:38.422Z"
   },
   {
    "duration": 0,
    "start_time": "2023-09-22T15:44:38.423Z"
   },
   {
    "duration": 0,
    "start_time": "2023-09-22T15:44:38.425Z"
   },
   {
    "duration": 0,
    "start_time": "2023-09-22T15:44:38.426Z"
   },
   {
    "duration": 0,
    "start_time": "2023-09-22T15:44:38.427Z"
   },
   {
    "duration": 0,
    "start_time": "2023-09-22T15:44:38.429Z"
   },
   {
    "duration": 0,
    "start_time": "2023-09-22T15:44:38.430Z"
   },
   {
    "duration": 0,
    "start_time": "2023-09-22T15:44:38.431Z"
   },
   {
    "duration": 0,
    "start_time": "2023-09-22T15:44:38.432Z"
   },
   {
    "duration": 5,
    "start_time": "2023-09-22T15:45:17.473Z"
   },
   {
    "duration": 1616,
    "start_time": "2023-09-22T15:45:24.710Z"
   },
   {
    "duration": 60,
    "start_time": "2023-09-22T15:45:26.329Z"
   },
   {
    "duration": 27,
    "start_time": "2023-09-22T15:45:26.391Z"
   },
   {
    "duration": 42,
    "start_time": "2023-09-22T15:45:26.420Z"
   },
   {
    "duration": 32,
    "start_time": "2023-09-22T15:45:26.464Z"
   },
   {
    "duration": 135,
    "start_time": "2023-09-22T15:45:26.498Z"
   },
   {
    "duration": 140,
    "start_time": "2023-09-22T15:45:26.635Z"
   },
   {
    "duration": 105,
    "start_time": "2023-09-22T15:45:26.777Z"
   },
   {
    "duration": 34,
    "start_time": "2023-09-22T15:45:26.884Z"
   },
   {
    "duration": 6,
    "start_time": "2023-09-22T15:45:26.921Z"
   },
   {
    "duration": 29,
    "start_time": "2023-09-22T15:45:26.928Z"
   },
   {
    "duration": 13,
    "start_time": "2023-09-22T15:45:26.959Z"
   },
   {
    "duration": 29,
    "start_time": "2023-09-22T15:45:26.975Z"
   },
   {
    "duration": 2405,
    "start_time": "2023-09-22T15:45:27.007Z"
   },
   {
    "duration": 87,
    "start_time": "2023-09-22T15:45:29.415Z"
   },
   {
    "duration": 28,
    "start_time": "2023-09-22T15:45:29.505Z"
   },
   {
    "duration": 28,
    "start_time": "2023-09-22T15:45:29.535Z"
   },
   {
    "duration": 23,
    "start_time": "2023-09-22T15:45:29.565Z"
   },
   {
    "duration": 1284,
    "start_time": "2023-09-22T15:45:29.591Z"
   },
   {
    "duration": 182,
    "start_time": "2023-09-22T15:45:30.879Z"
   },
   {
    "duration": 204,
    "start_time": "2023-09-22T15:45:31.064Z"
   },
   {
    "duration": 51,
    "start_time": "2023-09-22T15:45:31.272Z"
   },
   {
    "duration": 244,
    "start_time": "2023-09-22T15:45:31.327Z"
   },
   {
    "duration": 230,
    "start_time": "2023-09-22T15:45:31.573Z"
   },
   {
    "duration": 546,
    "start_time": "2023-09-22T15:45:31.805Z"
   },
   {
    "duration": 150,
    "start_time": "2023-09-22T15:45:32.353Z"
   },
   {
    "duration": 167,
    "start_time": "2023-09-22T15:45:32.506Z"
   },
   {
    "duration": 539,
    "start_time": "2023-09-22T15:45:32.678Z"
   },
   {
    "duration": 286,
    "start_time": "2023-09-22T15:45:33.218Z"
   },
   {
    "duration": 13,
    "start_time": "2023-09-22T15:45:33.507Z"
   },
   {
    "duration": 99,
    "start_time": "2023-09-22T15:45:33.524Z"
   },
   {
    "duration": 327,
    "start_time": "2023-09-22T15:45:33.626Z"
   },
   {
    "duration": 7,
    "start_time": "2023-09-22T15:45:33.954Z"
   },
   {
    "duration": 944,
    "start_time": "2023-09-22T15:45:33.963Z"
   },
   {
    "duration": 92,
    "start_time": "2023-09-22T15:45:34.909Z"
   },
   {
    "duration": 51,
    "start_time": "2023-09-22T15:45:35.004Z"
   },
   {
    "duration": 49,
    "start_time": "2023-09-22T15:45:35.057Z"
   },
   {
    "duration": 135,
    "start_time": "2023-09-22T15:45:35.108Z"
   },
   {
    "duration": 115,
    "start_time": "2023-09-22T15:45:35.246Z"
   },
   {
    "duration": 256,
    "start_time": "2023-09-22T15:45:35.362Z"
   },
   {
    "duration": 444,
    "start_time": "2023-09-22T15:45:35.621Z"
   },
   {
    "duration": 250,
    "start_time": "2023-09-22T15:45:36.067Z"
   },
   {
    "duration": 330,
    "start_time": "2023-09-22T15:45:36.320Z"
   },
   {
    "duration": 136,
    "start_time": "2023-09-22T15:47:31.340Z"
   },
   {
    "duration": 29,
    "start_time": "2023-09-22T15:49:04.922Z"
   },
   {
    "duration": 158,
    "start_time": "2023-09-22T15:49:19.108Z"
   },
   {
    "duration": 26,
    "start_time": "2023-09-22T15:50:35.398Z"
   },
   {
    "duration": 1715,
    "start_time": "2023-09-22T15:51:03.057Z"
   },
   {
    "duration": 72,
    "start_time": "2023-09-22T15:51:04.775Z"
   },
   {
    "duration": 15,
    "start_time": "2023-09-22T15:51:04.849Z"
   },
   {
    "duration": 65,
    "start_time": "2023-09-22T15:51:04.866Z"
   },
   {
    "duration": 28,
    "start_time": "2023-09-22T15:51:04.933Z"
   },
   {
    "duration": 145,
    "start_time": "2023-09-22T15:51:04.963Z"
   },
   {
    "duration": 148,
    "start_time": "2023-09-22T15:51:05.110Z"
   },
   {
    "duration": 110,
    "start_time": "2023-09-22T15:51:05.260Z"
   },
   {
    "duration": 38,
    "start_time": "2023-09-22T15:51:05.372Z"
   },
   {
    "duration": 5,
    "start_time": "2023-09-22T15:51:05.413Z"
   },
   {
    "duration": 37,
    "start_time": "2023-09-22T15:51:05.419Z"
   },
   {
    "duration": 46,
    "start_time": "2023-09-22T15:51:05.458Z"
   },
   {
    "duration": 47,
    "start_time": "2023-09-22T15:51:05.505Z"
   },
   {
    "duration": 1248,
    "start_time": "2023-09-22T15:51:05.553Z"
   },
   {
    "duration": 5,
    "start_time": "2023-09-22T15:51:06.804Z"
   },
   {
    "duration": 18,
    "start_time": "2023-09-22T15:51:06.810Z"
   },
   {
    "duration": 29,
    "start_time": "2023-09-22T15:51:06.830Z"
   },
   {
    "duration": 17,
    "start_time": "2023-09-22T15:51:06.861Z"
   },
   {
    "duration": 1259,
    "start_time": "2023-09-22T15:51:06.880Z"
   },
   {
    "duration": 162,
    "start_time": "2023-09-22T15:51:08.141Z"
   },
   {
    "duration": 213,
    "start_time": "2023-09-22T15:51:08.306Z"
   },
   {
    "duration": 85,
    "start_time": "2023-09-22T15:51:08.521Z"
   },
   {
    "duration": 105,
    "start_time": "2023-09-22T15:51:08.610Z"
   },
   {
    "duration": 219,
    "start_time": "2023-09-22T15:51:08.800Z"
   },
   {
    "duration": 69,
    "start_time": "2023-09-22T15:51:09.021Z"
   },
   {
    "duration": 7,
    "start_time": "2023-09-22T15:51:09.102Z"
   },
   {
    "duration": 142,
    "start_time": "2023-09-22T15:51:09.111Z"
   },
   {
    "duration": 498,
    "start_time": "2023-09-22T15:51:09.256Z"
   },
   {
    "duration": 14,
    "start_time": "2023-09-22T15:51:09.756Z"
   },
   {
    "duration": 179,
    "start_time": "2023-09-22T15:51:09.772Z"
   },
   {
    "duration": 58,
    "start_time": "2023-09-22T15:51:09.953Z"
   },
   {
    "duration": 259,
    "start_time": "2023-09-22T15:51:10.014Z"
   },
   {
    "duration": 538,
    "start_time": "2023-09-22T15:51:10.276Z"
   },
   {
    "duration": 270,
    "start_time": "2023-09-22T15:51:10.815Z"
   },
   {
    "duration": 19,
    "start_time": "2023-09-22T15:51:11.087Z"
   },
   {
    "duration": 17,
    "start_time": "2023-09-22T15:51:11.108Z"
   },
   {
    "duration": 142,
    "start_time": "2023-09-22T15:51:11.127Z"
   },
   {
    "duration": 7,
    "start_time": "2023-09-22T15:51:11.270Z"
   },
   {
    "duration": 1527,
    "start_time": "2023-09-22T15:51:11.279Z"
   },
   {
    "duration": 92,
    "start_time": "2023-09-22T15:51:12.809Z"
   },
   {
    "duration": 7,
    "start_time": "2023-09-22T15:51:12.903Z"
   },
   {
    "duration": 27,
    "start_time": "2023-09-22T15:51:12.912Z"
   },
   {
    "duration": 33,
    "start_time": "2023-09-22T15:51:12.942Z"
   },
   {
    "duration": 130,
    "start_time": "2023-09-22T15:51:12.977Z"
   },
   {
    "duration": 151,
    "start_time": "2023-09-22T15:51:13.110Z"
   },
   {
    "duration": 420,
    "start_time": "2023-09-22T15:51:13.263Z"
   },
   {
    "duration": 258,
    "start_time": "2023-09-22T15:51:13.686Z"
   },
   {
    "duration": 266,
    "start_time": "2023-09-22T15:51:13.946Z"
   },
   {
    "duration": 31,
    "start_time": "2023-09-22T15:52:39.102Z"
   },
   {
    "duration": 133,
    "start_time": "2023-09-22T15:52:41.929Z"
   },
   {
    "duration": 1793,
    "start_time": "2023-09-23T10:56:25.549Z"
   },
   {
    "duration": 187,
    "start_time": "2023-09-23T10:56:27.344Z"
   },
   {
    "duration": 13,
    "start_time": "2023-09-23T10:56:27.533Z"
   },
   {
    "duration": 17,
    "start_time": "2023-09-23T10:56:27.548Z"
   },
   {
    "duration": 9,
    "start_time": "2023-09-23T10:56:27.567Z"
   },
   {
    "duration": 124,
    "start_time": "2023-09-23T10:56:27.578Z"
   },
   {
    "duration": 125,
    "start_time": "2023-09-23T10:56:27.704Z"
   },
   {
    "duration": 107,
    "start_time": "2023-09-23T10:56:27.831Z"
   },
   {
    "duration": 34,
    "start_time": "2023-09-23T10:56:27.939Z"
   },
   {
    "duration": 8,
    "start_time": "2023-09-23T10:56:27.977Z"
   },
   {
    "duration": 120,
    "start_time": "2023-09-23T10:56:27.987Z"
   },
   {
    "duration": 7,
    "start_time": "2023-09-23T10:56:28.109Z"
   },
   {
    "duration": 10,
    "start_time": "2023-09-23T10:56:28.118Z"
   },
   {
    "duration": 933,
    "start_time": "2023-09-23T10:56:28.130Z"
   },
   {
    "duration": 90,
    "start_time": "2023-09-23T10:56:29.067Z"
   },
   {
    "duration": 17,
    "start_time": "2023-09-23T10:56:29.160Z"
   },
   {
    "duration": 20,
    "start_time": "2023-09-23T10:56:29.180Z"
   },
   {
    "duration": 22,
    "start_time": "2023-09-23T10:56:29.203Z"
   },
   {
    "duration": 1126,
    "start_time": "2023-09-23T10:56:29.227Z"
   },
   {
    "duration": 139,
    "start_time": "2023-09-23T10:56:30.355Z"
   },
   {
    "duration": 130,
    "start_time": "2023-09-23T10:56:30.496Z"
   },
   {
    "duration": 40,
    "start_time": "2023-09-23T10:56:30.627Z"
   },
   {
    "duration": 118,
    "start_time": "2023-09-23T10:56:30.756Z"
   },
   {
    "duration": 264,
    "start_time": "2023-09-23T10:56:30.958Z"
   },
   {
    "duration": 85,
    "start_time": "2023-09-23T10:56:31.225Z"
   },
   {
    "duration": 9,
    "start_time": "2023-09-23T10:56:31.312Z"
   },
   {
    "duration": 175,
    "start_time": "2023-09-23T10:56:31.322Z"
   },
   {
    "duration": 522,
    "start_time": "2023-09-23T10:56:31.501Z"
   },
   {
    "duration": 14,
    "start_time": "2023-09-23T10:56:32.025Z"
   },
   {
    "duration": 156,
    "start_time": "2023-09-23T10:56:32.041Z"
   },
   {
    "duration": 73,
    "start_time": "2023-09-23T10:56:32.199Z"
   },
   {
    "duration": 83,
    "start_time": "2023-09-23T10:56:32.275Z"
   },
   {
    "duration": 250,
    "start_time": "2023-09-23T10:56:32.360Z"
   },
   {
    "duration": 92,
    "start_time": "2023-09-23T10:56:32.612Z"
   },
   {
    "duration": 7,
    "start_time": "2023-09-23T10:56:32.707Z"
   },
   {
    "duration": 169,
    "start_time": "2023-09-23T10:56:32.716Z"
   },
   {
    "duration": 523,
    "start_time": "2023-09-23T10:56:32.887Z"
   },
   {
    "duration": 287,
    "start_time": "2023-09-23T10:56:33.412Z"
   },
   {
    "duration": 27,
    "start_time": "2023-09-23T10:56:33.701Z"
   },
   {
    "duration": 173,
    "start_time": "2023-09-23T10:56:33.730Z"
   },
   {
    "duration": 15,
    "start_time": "2023-09-23T10:56:33.905Z"
   },
   {
    "duration": 15,
    "start_time": "2023-09-23T10:56:33.922Z"
   },
   {
    "duration": 147,
    "start_time": "2023-09-23T10:56:33.962Z"
   },
   {
    "duration": 8,
    "start_time": "2023-09-23T10:56:34.110Z"
   },
   {
    "duration": 837,
    "start_time": "2023-09-23T10:56:34.120Z"
   },
   {
    "duration": 3,
    "start_time": "2023-09-23T10:56:34.960Z"
   },
   {
    "duration": 148,
    "start_time": "2023-09-23T10:56:34.965Z"
   },
   {
    "duration": 57,
    "start_time": "2023-09-23T10:56:35.115Z"
   },
   {
    "duration": 26,
    "start_time": "2023-09-23T10:56:35.175Z"
   },
   {
    "duration": 53,
    "start_time": "2023-09-23T10:56:35.203Z"
   },
   {
    "duration": 147,
    "start_time": "2023-09-23T10:56:35.263Z"
   },
   {
    "duration": 539,
    "start_time": "2023-09-23T10:56:35.412Z"
   },
   {
    "duration": 250,
    "start_time": "2023-09-23T10:56:35.955Z"
   },
   {
    "duration": 292,
    "start_time": "2023-09-23T10:56:36.207Z"
   },
   {
    "duration": 1821,
    "start_time": "2023-09-23T11:00:37.602Z"
   },
   {
    "duration": 66,
    "start_time": "2023-09-23T11:00:39.426Z"
   },
   {
    "duration": 14,
    "start_time": "2023-09-23T11:00:39.494Z"
   },
   {
    "duration": 76,
    "start_time": "2023-09-23T11:00:39.510Z"
   },
   {
    "duration": 44,
    "start_time": "2023-09-23T11:00:39.589Z"
   },
   {
    "duration": 155,
    "start_time": "2023-09-23T11:00:39.635Z"
   },
   {
    "duration": 133,
    "start_time": "2023-09-23T11:00:39.792Z"
   },
   {
    "duration": 112,
    "start_time": "2023-09-23T11:00:39.927Z"
   },
   {
    "duration": 35,
    "start_time": "2023-09-23T11:00:40.041Z"
   },
   {
    "duration": 37,
    "start_time": "2023-09-23T11:00:40.080Z"
   },
   {
    "duration": 23,
    "start_time": "2023-09-23T11:00:40.119Z"
   },
   {
    "duration": 52,
    "start_time": "2023-09-23T11:00:40.144Z"
   },
   {
    "duration": 44,
    "start_time": "2023-09-23T11:00:40.198Z"
   },
   {
    "duration": 2323,
    "start_time": "2023-09-23T11:00:40.244Z"
   },
   {
    "duration": 6,
    "start_time": "2023-09-23T11:00:42.577Z"
   },
   {
    "duration": 75,
    "start_time": "2023-09-23T11:00:42.585Z"
   },
   {
    "duration": 22,
    "start_time": "2023-09-23T11:00:42.662Z"
   },
   {
    "duration": 17,
    "start_time": "2023-09-23T11:00:42.686Z"
   },
   {
    "duration": 1368,
    "start_time": "2023-09-23T11:00:42.704Z"
   },
   {
    "duration": 131,
    "start_time": "2023-09-23T11:00:44.075Z"
   },
   {
    "duration": 162,
    "start_time": "2023-09-23T11:00:44.208Z"
   },
   {
    "duration": 102,
    "start_time": "2023-09-23T11:00:44.373Z"
   },
   {
    "duration": 100,
    "start_time": "2023-09-23T11:00:44.481Z"
   },
   {
    "duration": 312,
    "start_time": "2023-09-23T11:00:44.583Z"
   },
   {
    "duration": 80,
    "start_time": "2023-09-23T11:00:44.897Z"
   },
   {
    "duration": 7,
    "start_time": "2023-09-23T11:00:44.979Z"
   },
   {
    "duration": 146,
    "start_time": "2023-09-23T11:00:44.988Z"
   },
   {
    "duration": 528,
    "start_time": "2023-09-23T11:00:45.138Z"
   },
   {
    "duration": 271,
    "start_time": "2023-09-23T11:00:45.675Z"
   },
   {
    "duration": 42,
    "start_time": "2023-09-23T11:00:45.948Z"
   },
   {
    "duration": 144,
    "start_time": "2023-09-23T11:00:45.992Z"
   },
   {
    "duration": 39,
    "start_time": "2023-09-23T11:00:46.138Z"
   },
   {
    "duration": 91,
    "start_time": "2023-09-23T11:00:46.179Z"
   },
   {
    "duration": 216,
    "start_time": "2023-09-23T11:00:46.357Z"
   },
   {
    "duration": 87,
    "start_time": "2023-09-23T11:00:46.576Z"
   },
   {
    "duration": 11,
    "start_time": "2023-09-23T11:00:46.665Z"
   },
   {
    "duration": 141,
    "start_time": "2023-09-23T11:00:46.678Z"
   },
   {
    "duration": 556,
    "start_time": "2023-09-23T11:00:46.822Z"
   },
   {
    "duration": 292,
    "start_time": "2023-09-23T11:00:47.380Z"
   },
   {
    "duration": 29,
    "start_time": "2023-09-23T11:00:47.674Z"
   },
   {
    "duration": 138,
    "start_time": "2023-09-23T11:00:47.705Z"
   },
   {
    "duration": 28,
    "start_time": "2023-09-23T11:00:47.845Z"
   },
   {
    "duration": 17,
    "start_time": "2023-09-23T11:00:47.875Z"
   },
   {
    "duration": 131,
    "start_time": "2023-09-23T11:00:47.894Z"
   },
   {
    "duration": 8,
    "start_time": "2023-09-23T11:00:48.028Z"
   },
   {
    "duration": 1528,
    "start_time": "2023-09-23T11:00:48.038Z"
   },
   {
    "duration": 86,
    "start_time": "2023-09-23T11:00:49.569Z"
   },
   {
    "duration": 15,
    "start_time": "2023-09-23T11:00:49.666Z"
   },
   {
    "duration": 37,
    "start_time": "2023-09-23T11:00:49.683Z"
   },
   {
    "duration": 50,
    "start_time": "2023-09-23T11:00:49.723Z"
   },
   {
    "duration": 25,
    "start_time": "2023-09-23T11:00:49.776Z"
   },
   {
    "duration": 154,
    "start_time": "2023-09-23T11:00:49.858Z"
   },
   {
    "duration": 466,
    "start_time": "2023-09-23T11:00:50.014Z"
   },
   {
    "duration": 252,
    "start_time": "2023-09-23T11:00:50.482Z"
   },
   {
    "duration": 306,
    "start_time": "2023-09-23T11:00:50.735Z"
   },
   {
    "duration": 253,
    "start_time": "2023-09-23T11:01:26.666Z"
   },
   {
    "duration": 1867,
    "start_time": "2023-09-23T11:14:26.842Z"
   },
   {
    "duration": 61,
    "start_time": "2023-09-23T11:14:28.712Z"
   },
   {
    "duration": 16,
    "start_time": "2023-09-23T11:14:28.775Z"
   },
   {
    "duration": 26,
    "start_time": "2023-09-23T11:14:28.793Z"
   },
   {
    "duration": 16,
    "start_time": "2023-09-23T11:14:28.821Z"
   },
   {
    "duration": 179,
    "start_time": "2023-09-23T11:14:28.838Z"
   },
   {
    "duration": 163,
    "start_time": "2023-09-23T11:14:29.019Z"
   },
   {
    "duration": 146,
    "start_time": "2023-09-23T11:14:29.184Z"
   },
   {
    "duration": 37,
    "start_time": "2023-09-23T11:14:29.333Z"
   },
   {
    "duration": 9,
    "start_time": "2023-09-23T11:14:29.374Z"
   },
   {
    "duration": 13,
    "start_time": "2023-09-23T11:14:29.385Z"
   },
   {
    "duration": 5,
    "start_time": "2023-09-23T11:14:29.400Z"
   },
   {
    "duration": 23,
    "start_time": "2023-09-23T11:14:29.407Z"
   },
   {
    "duration": 817,
    "start_time": "2023-09-23T11:14:29.456Z"
   },
   {
    "duration": 85,
    "start_time": "2023-09-23T11:14:30.275Z"
   },
   {
    "duration": 44,
    "start_time": "2023-09-23T11:14:30.362Z"
   },
   {
    "duration": 72,
    "start_time": "2023-09-23T11:14:30.408Z"
   },
   {
    "duration": 57,
    "start_time": "2023-09-23T11:14:30.483Z"
   },
   {
    "duration": 1384,
    "start_time": "2023-09-23T11:14:30.542Z"
   },
   {
    "duration": 171,
    "start_time": "2023-09-23T11:14:31.928Z"
   },
   {
    "duration": 170,
    "start_time": "2023-09-23T11:14:32.101Z"
   },
   {
    "duration": 87,
    "start_time": "2023-09-23T11:14:32.274Z"
   },
   {
    "duration": 114,
    "start_time": "2023-09-23T11:14:32.364Z"
   },
   {
    "duration": 340,
    "start_time": "2023-09-23T11:14:32.480Z"
   },
   {
    "duration": 103,
    "start_time": "2023-09-23T11:14:32.822Z"
   },
   {
    "duration": 10,
    "start_time": "2023-09-23T11:14:32.928Z"
   },
   {
    "duration": 155,
    "start_time": "2023-09-23T11:14:32.940Z"
   },
   {
    "duration": 556,
    "start_time": "2023-09-23T11:14:33.101Z"
   },
   {
    "duration": 256,
    "start_time": "2023-09-23T11:14:33.667Z"
   },
   {
    "duration": 45,
    "start_time": "2023-09-23T11:14:33.925Z"
   },
   {
    "duration": 200,
    "start_time": "2023-09-23T11:14:33.972Z"
   },
   {
    "duration": 82,
    "start_time": "2023-09-23T11:14:34.175Z"
   },
   {
    "duration": 217,
    "start_time": "2023-09-23T11:14:34.258Z"
   },
   {
    "duration": 200,
    "start_time": "2023-09-23T11:14:34.490Z"
   },
   {
    "duration": 98,
    "start_time": "2023-09-23T11:14:34.693Z"
   },
   {
    "duration": 10,
    "start_time": "2023-09-23T11:14:34.793Z"
   },
   {
    "duration": 171,
    "start_time": "2023-09-23T11:14:34.805Z"
   },
   {
    "duration": 556,
    "start_time": "2023-09-23T11:14:34.978Z"
   },
   {
    "duration": 312,
    "start_time": "2023-09-23T11:14:35.536Z"
   },
   {
    "duration": 42,
    "start_time": "2023-09-23T11:14:35.850Z"
   },
   {
    "duration": 150,
    "start_time": "2023-09-23T11:14:35.894Z"
   },
   {
    "duration": 13,
    "start_time": "2023-09-23T11:14:36.046Z"
   },
   {
    "duration": 14,
    "start_time": "2023-09-23T11:14:36.061Z"
   },
   {
    "duration": 162,
    "start_time": "2023-09-23T11:14:36.077Z"
   },
   {
    "duration": 18,
    "start_time": "2023-09-23T11:14:36.241Z"
   },
   {
    "duration": 802,
    "start_time": "2023-09-23T11:14:36.261Z"
   },
   {
    "duration": 6,
    "start_time": "2023-09-23T11:14:37.076Z"
   },
   {
    "duration": 17,
    "start_time": "2023-09-23T11:14:37.156Z"
   },
   {
    "duration": 15,
    "start_time": "2023-09-23T11:14:37.179Z"
   },
   {
    "duration": 20,
    "start_time": "2023-09-23T11:14:37.196Z"
   },
   {
    "duration": 41,
    "start_time": "2023-09-23T11:14:37.218Z"
   },
   {
    "duration": 101,
    "start_time": "2023-09-23T11:14:37.261Z"
   },
   {
    "duration": 228,
    "start_time": "2023-09-23T11:14:37.366Z"
   },
   {
    "duration": 106,
    "start_time": "2023-09-23T11:14:37.596Z"
   },
   {
    "duration": 12,
    "start_time": "2023-09-23T11:14:37.705Z"
   },
   {
    "duration": 176,
    "start_time": "2023-09-23T11:14:37.719Z"
   },
   {
    "duration": 578,
    "start_time": "2023-09-23T11:14:37.898Z"
   },
   {
    "duration": 290,
    "start_time": "2023-09-23T11:14:38.479Z"
   },
   {
    "duration": 36,
    "start_time": "2023-09-23T11:14:38.771Z"
   },
   {
    "duration": 344,
    "start_time": "2023-09-23T11:14:38.810Z"
   },
   {
    "duration": 326,
    "start_time": "2023-09-23T11:14:39.157Z"
   },
   {
    "duration": 1800,
    "start_time": "2023-09-23T11:37:54.500Z"
   },
   {
    "duration": 79,
    "start_time": "2023-09-23T11:37:56.302Z"
   },
   {
    "duration": 18,
    "start_time": "2023-09-23T11:37:56.386Z"
   },
   {
    "duration": 19,
    "start_time": "2023-09-23T11:37:56.406Z"
   },
   {
    "duration": 34,
    "start_time": "2023-09-23T11:37:56.427Z"
   },
   {
    "duration": 128,
    "start_time": "2023-09-23T11:37:56.462Z"
   },
   {
    "duration": 140,
    "start_time": "2023-09-23T11:37:56.592Z"
   },
   {
    "duration": 142,
    "start_time": "2023-09-23T11:37:56.734Z"
   },
   {
    "duration": 35,
    "start_time": "2023-09-23T11:37:56.878Z"
   },
   {
    "duration": 7,
    "start_time": "2023-09-23T11:37:56.916Z"
   },
   {
    "duration": 13,
    "start_time": "2023-09-23T11:37:56.925Z"
   },
   {
    "duration": 29,
    "start_time": "2023-09-23T11:37:56.939Z"
   },
   {
    "duration": 27,
    "start_time": "2023-09-23T11:37:56.970Z"
   },
   {
    "duration": 965,
    "start_time": "2023-09-23T11:37:56.999Z"
   },
   {
    "duration": 25,
    "start_time": "2023-09-23T11:37:57.967Z"
   },
   {
    "duration": 37,
    "start_time": "2023-09-23T11:37:58.060Z"
   },
   {
    "duration": 31,
    "start_time": "2023-09-23T11:37:58.101Z"
   },
   {
    "duration": 33,
    "start_time": "2023-09-23T11:37:58.135Z"
   },
   {
    "duration": 1499,
    "start_time": "2023-09-23T11:37:58.175Z"
   },
   {
    "duration": 184,
    "start_time": "2023-09-23T11:37:59.679Z"
   },
   {
    "duration": 186,
    "start_time": "2023-09-23T11:37:59.865Z"
   },
   {
    "duration": 111,
    "start_time": "2023-09-23T11:38:00.058Z"
   },
   {
    "duration": 104,
    "start_time": "2023-09-23T11:38:00.173Z"
   },
   {
    "duration": 306,
    "start_time": "2023-09-23T11:38:00.279Z"
   },
   {
    "duration": 85,
    "start_time": "2023-09-23T11:38:00.588Z"
   },
   {
    "duration": 191,
    "start_time": "2023-09-23T11:38:00.678Z"
   },
   {
    "duration": 170,
    "start_time": "2023-09-23T11:38:00.872Z"
   },
   {
    "duration": 553,
    "start_time": "2023-09-23T11:38:01.048Z"
   },
   {
    "duration": 283,
    "start_time": "2023-09-23T11:38:01.603Z"
   },
   {
    "duration": 31,
    "start_time": "2023-09-23T11:38:01.889Z"
   },
   {
    "duration": 189,
    "start_time": "2023-09-23T11:38:01.923Z"
   },
   {
    "duration": 62,
    "start_time": "2023-09-23T11:38:02.114Z"
   },
   {
    "duration": 186,
    "start_time": "2023-09-23T11:38:02.180Z"
   },
   {
    "duration": 275,
    "start_time": "2023-09-23T11:38:02.369Z"
   },
   {
    "duration": 121,
    "start_time": "2023-09-23T11:38:02.647Z"
   },
   {
    "duration": 14,
    "start_time": "2023-09-23T11:38:02.770Z"
   },
   {
    "duration": 199,
    "start_time": "2023-09-23T11:38:02.786Z"
   },
   {
    "duration": 542,
    "start_time": "2023-09-23T11:38:02.987Z"
   },
   {
    "duration": 348,
    "start_time": "2023-09-23T11:38:03.531Z"
   },
   {
    "duration": 32,
    "start_time": "2023-09-23T11:38:03.882Z"
   },
   {
    "duration": 196,
    "start_time": "2023-09-23T11:38:03.917Z"
   },
   {
    "duration": 16,
    "start_time": "2023-09-23T11:38:04.115Z"
   },
   {
    "duration": 33,
    "start_time": "2023-09-23T11:38:04.134Z"
   },
   {
    "duration": 154,
    "start_time": "2023-09-23T11:38:04.169Z"
   },
   {
    "duration": 10,
    "start_time": "2023-09-23T11:38:04.325Z"
   },
   {
    "duration": 1153,
    "start_time": "2023-09-23T11:38:04.337Z"
   },
   {
    "duration": 70,
    "start_time": "2023-09-23T11:38:05.494Z"
   },
   {
    "duration": 24,
    "start_time": "2023-09-23T11:38:05.571Z"
   },
   {
    "duration": 20,
    "start_time": "2023-09-23T11:38:05.597Z"
   },
   {
    "duration": 63,
    "start_time": "2023-09-23T11:38:05.619Z"
   },
   {
    "duration": 77,
    "start_time": "2023-09-23T11:38:05.684Z"
   },
   {
    "duration": 106,
    "start_time": "2023-09-23T11:38:05.763Z"
   },
   {
    "duration": 226,
    "start_time": "2023-09-23T11:38:05.880Z"
   },
   {
    "duration": 96,
    "start_time": "2023-09-23T11:38:06.108Z"
   },
   {
    "duration": 9,
    "start_time": "2023-09-23T11:38:06.207Z"
   },
   {
    "duration": 170,
    "start_time": "2023-09-23T11:38:06.218Z"
   },
   {
    "duration": 606,
    "start_time": "2023-09-23T11:38:06.390Z"
   },
   {
    "duration": 326,
    "start_time": "2023-09-23T11:38:06.999Z"
   },
   {
    "duration": 46,
    "start_time": "2023-09-23T11:38:07.327Z"
   },
   {
    "duration": 142,
    "start_time": "2023-09-23T11:38:07.375Z"
   },
   {
    "duration": 348,
    "start_time": "2023-09-23T11:38:07.519Z"
   },
   {
    "duration": 120,
    "start_time": "2023-09-24T07:31:02.230Z"
   },
   {
    "duration": 63,
    "start_time": "2023-09-24T08:10:17.012Z"
   },
   {
    "duration": 9,
    "start_time": "2023-09-24T08:10:25.088Z"
   },
   {
    "duration": 7,
    "start_time": "2023-09-24T08:10:34.646Z"
   },
   {
    "duration": 1928,
    "start_time": "2023-09-24T08:10:46.793Z"
   },
   {
    "duration": 212,
    "start_time": "2023-09-24T08:10:48.724Z"
   },
   {
    "duration": 19,
    "start_time": "2023-09-24T08:10:48.938Z"
   },
   {
    "duration": 23,
    "start_time": "2023-09-24T08:10:48.960Z"
   },
   {
    "duration": 15,
    "start_time": "2023-09-24T08:10:48.985Z"
   },
   {
    "duration": 184,
    "start_time": "2023-09-24T08:10:49.002Z"
   },
   {
    "duration": 130,
    "start_time": "2023-09-24T08:10:49.188Z"
   },
   {
    "duration": 116,
    "start_time": "2023-09-24T08:10:49.320Z"
   },
   {
    "duration": 34,
    "start_time": "2023-09-24T08:10:49.438Z"
   },
   {
    "duration": 174,
    "start_time": "2023-09-24T08:10:49.478Z"
   },
   {
    "duration": 0,
    "start_time": "2023-09-24T08:10:49.768Z"
   },
   {
    "duration": 0,
    "start_time": "2023-09-24T08:10:49.769Z"
   },
   {
    "duration": 0,
    "start_time": "2023-09-24T08:10:49.772Z"
   },
   {
    "duration": 0,
    "start_time": "2023-09-24T08:10:49.773Z"
   },
   {
    "duration": 0,
    "start_time": "2023-09-24T08:10:49.775Z"
   },
   {
    "duration": 0,
    "start_time": "2023-09-24T08:10:49.776Z"
   },
   {
    "duration": 0,
    "start_time": "2023-09-24T08:10:49.777Z"
   },
   {
    "duration": 0,
    "start_time": "2023-09-24T08:10:49.778Z"
   },
   {
    "duration": 0,
    "start_time": "2023-09-24T08:10:49.780Z"
   },
   {
    "duration": 0,
    "start_time": "2023-09-24T08:10:49.781Z"
   },
   {
    "duration": 0,
    "start_time": "2023-09-24T08:10:49.782Z"
   },
   {
    "duration": 0,
    "start_time": "2023-09-24T08:10:49.783Z"
   },
   {
    "duration": 0,
    "start_time": "2023-09-24T08:10:49.784Z"
   },
   {
    "duration": 0,
    "start_time": "2023-09-24T08:10:49.786Z"
   },
   {
    "duration": 0,
    "start_time": "2023-09-24T08:10:49.788Z"
   },
   {
    "duration": 0,
    "start_time": "2023-09-24T08:10:49.789Z"
   },
   {
    "duration": 0,
    "start_time": "2023-09-24T08:10:49.792Z"
   },
   {
    "duration": 0,
    "start_time": "2023-09-24T08:10:49.794Z"
   },
   {
    "duration": 0,
    "start_time": "2023-09-24T08:10:49.795Z"
   },
   {
    "duration": 0,
    "start_time": "2023-09-24T08:10:49.797Z"
   },
   {
    "duration": 0,
    "start_time": "2023-09-24T08:10:49.799Z"
   },
   {
    "duration": 0,
    "start_time": "2023-09-24T08:10:49.800Z"
   },
   {
    "duration": 0,
    "start_time": "2023-09-24T08:10:49.801Z"
   },
   {
    "duration": 0,
    "start_time": "2023-09-24T08:10:49.802Z"
   },
   {
    "duration": 0,
    "start_time": "2023-09-24T08:10:49.803Z"
   },
   {
    "duration": 0,
    "start_time": "2023-09-24T08:10:49.805Z"
   },
   {
    "duration": 0,
    "start_time": "2023-09-24T08:10:49.860Z"
   },
   {
    "duration": 0,
    "start_time": "2023-09-24T08:10:49.861Z"
   },
   {
    "duration": 0,
    "start_time": "2023-09-24T08:10:49.862Z"
   },
   {
    "duration": 0,
    "start_time": "2023-09-24T08:10:49.863Z"
   },
   {
    "duration": 0,
    "start_time": "2023-09-24T08:10:49.864Z"
   },
   {
    "duration": 0,
    "start_time": "2023-09-24T08:10:49.865Z"
   },
   {
    "duration": 0,
    "start_time": "2023-09-24T08:10:49.866Z"
   },
   {
    "duration": 0,
    "start_time": "2023-09-24T08:10:49.867Z"
   },
   {
    "duration": 0,
    "start_time": "2023-09-24T08:10:49.868Z"
   },
   {
    "duration": 0,
    "start_time": "2023-09-24T08:10:49.869Z"
   },
   {
    "duration": 0,
    "start_time": "2023-09-24T08:10:49.870Z"
   },
   {
    "duration": 0,
    "start_time": "2023-09-24T08:10:49.870Z"
   },
   {
    "duration": 0,
    "start_time": "2023-09-24T08:10:49.876Z"
   },
   {
    "duration": 0,
    "start_time": "2023-09-24T08:10:49.878Z"
   },
   {
    "duration": 1,
    "start_time": "2023-09-24T08:10:49.879Z"
   },
   {
    "duration": 0,
    "start_time": "2023-09-24T08:10:49.881Z"
   },
   {
    "duration": 0,
    "start_time": "2023-09-24T08:10:49.882Z"
   },
   {
    "duration": 0,
    "start_time": "2023-09-24T08:10:49.884Z"
   },
   {
    "duration": 0,
    "start_time": "2023-09-24T08:10:49.885Z"
   },
   {
    "duration": 0,
    "start_time": "2023-09-24T08:10:49.887Z"
   },
   {
    "duration": 0,
    "start_time": "2023-09-24T08:10:49.888Z"
   },
   {
    "duration": 0,
    "start_time": "2023-09-24T08:10:49.889Z"
   },
   {
    "duration": 0,
    "start_time": "2023-09-24T08:10:49.891Z"
   },
   {
    "duration": 0,
    "start_time": "2023-09-24T08:10:49.892Z"
   },
   {
    "duration": 0,
    "start_time": "2023-09-24T08:10:49.894Z"
   },
   {
    "duration": 0,
    "start_time": "2023-09-24T08:10:49.894Z"
   },
   {
    "duration": 116,
    "start_time": "2023-09-24T08:11:28.305Z"
   },
   {
    "duration": 121,
    "start_time": "2023-09-24T08:11:53.506Z"
   },
   {
    "duration": 1795,
    "start_time": "2023-09-24T08:23:56.547Z"
   },
   {
    "duration": 78,
    "start_time": "2023-09-24T08:23:58.344Z"
   },
   {
    "duration": 15,
    "start_time": "2023-09-24T08:23:58.423Z"
   },
   {
    "duration": 29,
    "start_time": "2023-09-24T08:23:58.440Z"
   },
   {
    "duration": 7,
    "start_time": "2023-09-24T08:23:58.471Z"
   },
   {
    "duration": 136,
    "start_time": "2023-09-24T08:23:58.480Z"
   },
   {
    "duration": 133,
    "start_time": "2023-09-24T08:23:58.618Z"
   },
   {
    "duration": 138,
    "start_time": "2023-09-24T08:23:58.756Z"
   },
   {
    "duration": 26,
    "start_time": "2023-09-24T08:23:58.898Z"
   },
   {
    "duration": 7,
    "start_time": "2023-09-24T08:23:58.928Z"
   },
   {
    "duration": 11,
    "start_time": "2023-09-24T08:23:58.962Z"
   },
   {
    "duration": 5,
    "start_time": "2023-09-24T08:23:58.975Z"
   },
   {
    "duration": 9,
    "start_time": "2023-09-24T08:23:58.982Z"
   },
   {
    "duration": 1979,
    "start_time": "2023-09-24T08:23:58.993Z"
   },
   {
    "duration": 83,
    "start_time": "2023-09-24T08:24:00.974Z"
   },
   {
    "duration": 33,
    "start_time": "2023-09-24T08:24:01.063Z"
   },
   {
    "duration": 64,
    "start_time": "2023-09-24T08:24:01.099Z"
   },
   {
    "duration": 55,
    "start_time": "2023-09-24T08:24:01.173Z"
   },
   {
    "duration": 1353,
    "start_time": "2023-09-24T08:24:01.230Z"
   },
   {
    "duration": 155,
    "start_time": "2023-09-24T08:24:02.586Z"
   },
   {
    "duration": 163,
    "start_time": "2023-09-24T08:24:02.744Z"
   },
   {
    "duration": 69,
    "start_time": "2023-09-24T08:24:02.909Z"
   },
   {
    "duration": 461,
    "start_time": "2023-09-24T08:24:02.981Z"
   },
   {
    "duration": 380,
    "start_time": "2023-09-24T08:24:03.446Z"
   },
   {
    "duration": 91,
    "start_time": "2023-09-24T08:24:03.828Z"
   },
   {
    "duration": 9,
    "start_time": "2023-09-24T08:24:03.921Z"
   },
   {
    "duration": 201,
    "start_time": "2023-09-24T08:24:03.932Z"
   },
   {
    "duration": 625,
    "start_time": "2023-09-24T08:24:04.137Z"
   },
   {
    "duration": 288,
    "start_time": "2023-09-24T08:24:04.770Z"
   },
   {
    "duration": 29,
    "start_time": "2023-09-24T08:24:05.068Z"
   },
   {
    "duration": 165,
    "start_time": "2023-09-24T08:24:05.099Z"
   },
   {
    "duration": 98,
    "start_time": "2023-09-24T08:24:05.266Z"
   },
   {
    "duration": 108,
    "start_time": "2023-09-24T08:24:05.366Z"
   },
   {
    "duration": 239,
    "start_time": "2023-09-24T08:24:05.477Z"
   },
   {
    "duration": 99,
    "start_time": "2023-09-24T08:24:05.718Z"
   },
   {
    "duration": 10,
    "start_time": "2023-09-24T08:24:05.819Z"
   },
   {
    "duration": 245,
    "start_time": "2023-09-24T08:24:05.831Z"
   },
   {
    "duration": 581,
    "start_time": "2023-09-24T08:24:06.079Z"
   },
   {
    "duration": 329,
    "start_time": "2023-09-24T08:24:06.666Z"
   },
   {
    "duration": 37,
    "start_time": "2023-09-24T08:24:06.998Z"
   },
   {
    "duration": 173,
    "start_time": "2023-09-24T08:24:07.037Z"
   },
   {
    "duration": 13,
    "start_time": "2023-09-24T08:24:07.212Z"
   },
   {
    "duration": 37,
    "start_time": "2023-09-24T08:24:07.227Z"
   },
   {
    "duration": 128,
    "start_time": "2023-09-24T08:24:07.269Z"
   },
   {
    "duration": 8,
    "start_time": "2023-09-24T08:24:07.399Z"
   },
   {
    "duration": 2072,
    "start_time": "2023-09-24T08:24:07.408Z"
   },
   {
    "duration": 86,
    "start_time": "2023-09-24T08:24:09.482Z"
   },
   {
    "duration": 97,
    "start_time": "2023-09-24T08:24:09.574Z"
   },
   {
    "duration": 16,
    "start_time": "2023-09-24T08:24:09.673Z"
   },
   {
    "duration": 32,
    "start_time": "2023-09-24T08:24:09.690Z"
   },
   {
    "duration": 34,
    "start_time": "2023-09-24T08:24:09.724Z"
   },
   {
    "duration": 18,
    "start_time": "2023-09-24T08:24:09.760Z"
   },
   {
    "duration": 309,
    "start_time": "2023-09-24T08:24:09.780Z"
   },
   {
    "duration": 99,
    "start_time": "2023-09-24T08:24:10.092Z"
   },
   {
    "duration": 10,
    "start_time": "2023-09-24T08:24:10.194Z"
   },
   {
    "duration": 169,
    "start_time": "2023-09-24T08:24:10.206Z"
   },
   {
    "duration": 563,
    "start_time": "2023-09-24T08:24:10.377Z"
   },
   {
    "duration": 257,
    "start_time": "2023-09-24T08:24:10.941Z"
   },
   {
    "duration": 25,
    "start_time": "2023-09-24T08:24:11.200Z"
   },
   {
    "duration": 156,
    "start_time": "2023-09-24T08:24:11.227Z"
   },
   {
    "duration": 289,
    "start_time": "2023-09-24T08:24:11.385Z"
   },
   {
    "duration": 63,
    "start_time": "2023-09-27T14:44:55.579Z"
   },
   {
    "duration": 2102,
    "start_time": "2023-09-27T14:45:03.896Z"
   },
   {
    "duration": 136,
    "start_time": "2023-09-27T14:45:06.000Z"
   },
   {
    "duration": 31,
    "start_time": "2023-09-27T14:45:06.138Z"
   },
   {
    "duration": 139,
    "start_time": "2023-09-27T14:45:06.172Z"
   },
   {
    "duration": 48,
    "start_time": "2023-09-27T14:45:06.313Z"
   },
   {
    "duration": 212,
    "start_time": "2023-09-27T14:45:06.363Z"
   },
   {
    "duration": 123,
    "start_time": "2023-09-27T14:45:06.577Z"
   },
   {
    "duration": 150,
    "start_time": "2023-09-27T14:45:06.702Z"
   },
   {
    "duration": 212,
    "start_time": "2023-09-27T14:45:06.855Z"
   },
   {
    "duration": 20,
    "start_time": "2023-09-27T14:45:07.070Z"
   },
   {
    "duration": 23,
    "start_time": "2023-09-27T14:45:07.091Z"
   },
   {
    "duration": 20,
    "start_time": "2023-09-27T14:45:07.116Z"
   },
   {
    "duration": 4,
    "start_time": "2023-09-27T14:45:07.139Z"
   },
   {
    "duration": 23,
    "start_time": "2023-09-27T14:45:07.146Z"
   },
   {
    "duration": 1550,
    "start_time": "2023-09-27T14:45:07.171Z"
   },
   {
    "duration": 12,
    "start_time": "2023-09-27T14:45:08.724Z"
   },
   {
    "duration": 13,
    "start_time": "2023-09-27T14:45:08.811Z"
   },
   {
    "duration": 21,
    "start_time": "2023-09-27T14:45:08.826Z"
   },
   {
    "duration": 18,
    "start_time": "2023-09-27T14:45:08.849Z"
   },
   {
    "duration": 1274,
    "start_time": "2023-09-27T14:45:08.869Z"
   },
   {
    "duration": 128,
    "start_time": "2023-09-27T14:45:10.145Z"
   },
   {
    "duration": 155,
    "start_time": "2023-09-27T14:45:10.275Z"
   },
   {
    "duration": 77,
    "start_time": "2023-09-27T14:45:10.437Z"
   },
   {
    "duration": 24,
    "start_time": "2023-09-27T14:45:10.516Z"
   },
   {
    "duration": 246,
    "start_time": "2023-09-27T14:45:10.612Z"
   },
   {
    "duration": 83,
    "start_time": "2023-09-27T14:45:10.860Z"
   },
   {
    "duration": 7,
    "start_time": "2023-09-27T14:45:10.945Z"
   },
   {
    "duration": 148,
    "start_time": "2023-09-27T14:45:10.955Z"
   },
   {
    "duration": 563,
    "start_time": "2023-09-27T14:45:11.105Z"
   },
   {
    "duration": 281,
    "start_time": "2023-09-27T14:45:11.670Z"
   },
   {
    "duration": 25,
    "start_time": "2023-09-27T14:45:11.952Z"
   },
   {
    "duration": 162,
    "start_time": "2023-09-27T14:45:11.979Z"
   },
   {
    "duration": 97,
    "start_time": "2023-09-27T14:45:12.143Z"
   },
   {
    "duration": 27,
    "start_time": "2023-09-27T14:45:12.308Z"
   },
   {
    "duration": 333,
    "start_time": "2023-09-27T14:45:12.340Z"
   },
   {
    "duration": 114,
    "start_time": "2023-09-27T14:45:12.675Z"
   },
   {
    "duration": 18,
    "start_time": "2023-09-27T14:45:12.792Z"
   },
   {
    "duration": 163,
    "start_time": "2023-09-27T14:45:12.816Z"
   },
   {
    "duration": 569,
    "start_time": "2023-09-27T14:45:12.982Z"
   },
   {
    "duration": 311,
    "start_time": "2023-09-27T14:45:13.553Z"
   },
   {
    "duration": 27,
    "start_time": "2023-09-27T14:45:13.866Z"
   },
   {
    "duration": 178,
    "start_time": "2023-09-27T14:45:13.896Z"
   },
   {
    "duration": 13,
    "start_time": "2023-09-27T14:45:14.076Z"
   },
   {
    "duration": 33,
    "start_time": "2023-09-27T14:45:14.091Z"
   },
   {
    "duration": 240,
    "start_time": "2023-09-27T14:45:14.127Z"
   },
   {
    "duration": 7,
    "start_time": "2023-09-27T14:45:14.368Z"
   },
   {
    "duration": 1334,
    "start_time": "2023-09-27T14:45:14.377Z"
   },
   {
    "duration": 5,
    "start_time": "2023-09-27T14:45:15.713Z"
   },
   {
    "duration": 101,
    "start_time": "2023-09-27T14:45:15.722Z"
   },
   {
    "duration": 127,
    "start_time": "2023-09-27T14:45:15.825Z"
   },
   {
    "duration": 87,
    "start_time": "2023-09-27T14:45:15.953Z"
   },
   {
    "duration": 20,
    "start_time": "2023-09-27T14:45:16.042Z"
   },
   {
    "duration": 146,
    "start_time": "2023-09-27T14:45:16.063Z"
   },
   {
    "duration": 238,
    "start_time": "2023-09-27T14:45:16.213Z"
   },
   {
    "duration": 75,
    "start_time": "2023-09-27T14:45:16.453Z"
   },
   {
    "duration": 9,
    "start_time": "2023-09-27T14:45:16.535Z"
   },
   {
    "duration": 175,
    "start_time": "2023-09-27T14:45:16.546Z"
   },
   {
    "duration": 479,
    "start_time": "2023-09-27T14:45:16.724Z"
   },
   {
    "duration": 279,
    "start_time": "2023-09-27T14:45:17.209Z"
   },
   {
    "duration": 34,
    "start_time": "2023-09-27T14:45:17.490Z"
   },
   {
    "duration": 152,
    "start_time": "2023-09-27T14:45:17.528Z"
   },
   {
    "duration": 347,
    "start_time": "2023-09-27T14:45:17.682Z"
   },
   {
    "duration": 147,
    "start_time": "2023-09-27T14:46:21.281Z"
   },
   {
    "duration": 105,
    "start_time": "2023-09-27T14:56:39.646Z"
   },
   {
    "duration": 150,
    "start_time": "2023-09-27T14:56:52.022Z"
   },
   {
    "duration": 148,
    "start_time": "2023-09-27T15:06:45.124Z"
   },
   {
    "duration": 7,
    "start_time": "2023-09-27T15:07:03.661Z"
   },
   {
    "duration": 10,
    "start_time": "2023-09-27T15:07:21.587Z"
   },
   {
    "duration": 11,
    "start_time": "2023-09-27T15:17:02.080Z"
   },
   {
    "duration": 1721,
    "start_time": "2023-09-27T15:17:09.999Z"
   },
   {
    "duration": 0,
    "start_time": "2023-09-27T15:17:11.724Z"
   },
   {
    "duration": 0,
    "start_time": "2023-09-27T15:17:11.726Z"
   },
   {
    "duration": 0,
    "start_time": "2023-09-27T15:17:11.727Z"
   },
   {
    "duration": 0,
    "start_time": "2023-09-27T15:17:11.728Z"
   },
   {
    "duration": 0,
    "start_time": "2023-09-27T15:17:11.729Z"
   },
   {
    "duration": 0,
    "start_time": "2023-09-27T15:17:11.730Z"
   },
   {
    "duration": 0,
    "start_time": "2023-09-27T15:17:11.731Z"
   },
   {
    "duration": 0,
    "start_time": "2023-09-27T15:17:11.732Z"
   },
   {
    "duration": 0,
    "start_time": "2023-09-27T15:17:11.733Z"
   },
   {
    "duration": 0,
    "start_time": "2023-09-27T15:17:11.734Z"
   },
   {
    "duration": 0,
    "start_time": "2023-09-27T15:17:11.735Z"
   },
   {
    "duration": 0,
    "start_time": "2023-09-27T15:17:11.736Z"
   },
   {
    "duration": 0,
    "start_time": "2023-09-27T15:17:11.737Z"
   },
   {
    "duration": 0,
    "start_time": "2023-09-27T15:17:11.738Z"
   },
   {
    "duration": 0,
    "start_time": "2023-09-27T15:17:11.739Z"
   },
   {
    "duration": 0,
    "start_time": "2023-09-27T15:17:11.740Z"
   },
   {
    "duration": 0,
    "start_time": "2023-09-27T15:17:11.741Z"
   },
   {
    "duration": 0,
    "start_time": "2023-09-27T15:17:11.742Z"
   },
   {
    "duration": 0,
    "start_time": "2023-09-27T15:17:11.743Z"
   },
   {
    "duration": 0,
    "start_time": "2023-09-27T15:17:11.744Z"
   },
   {
    "duration": 0,
    "start_time": "2023-09-27T15:17:11.745Z"
   },
   {
    "duration": 0,
    "start_time": "2023-09-27T15:17:11.747Z"
   },
   {
    "duration": 0,
    "start_time": "2023-09-27T15:17:11.748Z"
   },
   {
    "duration": 0,
    "start_time": "2023-09-27T15:17:11.750Z"
   },
   {
    "duration": 0,
    "start_time": "2023-09-27T15:17:11.751Z"
   },
   {
    "duration": 0,
    "start_time": "2023-09-27T15:17:11.752Z"
   },
   {
    "duration": 0,
    "start_time": "2023-09-27T15:17:11.754Z"
   },
   {
    "duration": 0,
    "start_time": "2023-09-27T15:17:11.755Z"
   },
   {
    "duration": 0,
    "start_time": "2023-09-27T15:17:11.758Z"
   },
   {
    "duration": 0,
    "start_time": "2023-09-27T15:17:11.759Z"
   },
   {
    "duration": 0,
    "start_time": "2023-09-27T15:17:11.761Z"
   },
   {
    "duration": 0,
    "start_time": "2023-09-27T15:17:11.762Z"
   },
   {
    "duration": 1,
    "start_time": "2023-09-27T15:17:11.810Z"
   },
   {
    "duration": 0,
    "start_time": "2023-09-27T15:17:11.813Z"
   },
   {
    "duration": 0,
    "start_time": "2023-09-27T15:17:11.818Z"
   },
   {
    "duration": 0,
    "start_time": "2023-09-27T15:17:11.819Z"
   },
   {
    "duration": 0,
    "start_time": "2023-09-27T15:17:11.819Z"
   },
   {
    "duration": 0,
    "start_time": "2023-09-27T15:17:11.820Z"
   },
   {
    "duration": 0,
    "start_time": "2023-09-27T15:17:11.821Z"
   },
   {
    "duration": 0,
    "start_time": "2023-09-27T15:17:11.822Z"
   },
   {
    "duration": 0,
    "start_time": "2023-09-27T15:17:11.826Z"
   },
   {
    "duration": 0,
    "start_time": "2023-09-27T15:17:11.827Z"
   },
   {
    "duration": 0,
    "start_time": "2023-09-27T15:17:11.828Z"
   },
   {
    "duration": 0,
    "start_time": "2023-09-27T15:17:11.829Z"
   },
   {
    "duration": 0,
    "start_time": "2023-09-27T15:17:11.830Z"
   },
   {
    "duration": 0,
    "start_time": "2023-09-27T15:17:11.831Z"
   },
   {
    "duration": 0,
    "start_time": "2023-09-27T15:17:11.832Z"
   },
   {
    "duration": 0,
    "start_time": "2023-09-27T15:17:11.833Z"
   },
   {
    "duration": 1,
    "start_time": "2023-09-27T15:17:11.834Z"
   },
   {
    "duration": 0,
    "start_time": "2023-09-27T15:17:11.836Z"
   },
   {
    "duration": 0,
    "start_time": "2023-09-27T15:17:11.836Z"
   },
   {
    "duration": 0,
    "start_time": "2023-09-27T15:17:11.838Z"
   },
   {
    "duration": 0,
    "start_time": "2023-09-27T15:17:11.839Z"
   },
   {
    "duration": 0,
    "start_time": "2023-09-27T15:17:11.840Z"
   },
   {
    "duration": 0,
    "start_time": "2023-09-27T15:17:11.841Z"
   },
   {
    "duration": 0,
    "start_time": "2023-09-27T15:17:11.842Z"
   },
   {
    "duration": 0,
    "start_time": "2023-09-27T15:17:11.843Z"
   },
   {
    "duration": 0,
    "start_time": "2023-09-27T15:17:11.844Z"
   },
   {
    "duration": 0,
    "start_time": "2023-09-27T15:17:11.845Z"
   },
   {
    "duration": 0,
    "start_time": "2023-09-27T15:17:11.846Z"
   },
   {
    "duration": 0,
    "start_time": "2023-09-27T15:17:11.847Z"
   },
   {
    "duration": 4,
    "start_time": "2023-09-27T15:18:03.767Z"
   },
   {
    "duration": 1652,
    "start_time": "2023-09-27T15:18:09.639Z"
   },
   {
    "duration": 69,
    "start_time": "2023-09-27T15:18:11.294Z"
   },
   {
    "duration": 15,
    "start_time": "2023-09-27T15:18:11.365Z"
   },
   {
    "duration": 16,
    "start_time": "2023-09-27T15:18:11.383Z"
   },
   {
    "duration": 20,
    "start_time": "2023-09-27T15:18:11.401Z"
   },
   {
    "duration": 156,
    "start_time": "2023-09-27T15:18:11.423Z"
   },
   {
    "duration": 114,
    "start_time": "2023-09-27T15:18:11.581Z"
   },
   {
    "duration": 185,
    "start_time": "2023-09-27T15:18:11.696Z"
   },
   {
    "duration": 8,
    "start_time": "2023-09-27T15:18:11.882Z"
   },
   {
    "duration": 28,
    "start_time": "2023-09-27T15:18:11.893Z"
   },
   {
    "duration": 109,
    "start_time": "2023-09-27T15:18:11.923Z"
   },
   {
    "duration": 122,
    "start_time": "2023-09-27T15:18:12.034Z"
   },
   {
    "duration": 197,
    "start_time": "2023-09-27T15:18:12.157Z"
   },
   {
    "duration": 20,
    "start_time": "2023-09-27T15:18:12.356Z"
   },
   {
    "duration": 18,
    "start_time": "2023-09-27T15:18:12.377Z"
   },
   {
    "duration": 20,
    "start_time": "2023-09-27T15:18:12.397Z"
   },
   {
    "duration": 18,
    "start_time": "2023-09-27T15:18:12.419Z"
   },
   {
    "duration": 195,
    "start_time": "2023-09-27T15:18:12.440Z"
   },
   {
    "duration": 0,
    "start_time": "2023-09-27T15:18:12.639Z"
   },
   {
    "duration": 0,
    "start_time": "2023-09-27T15:18:12.640Z"
   },
   {
    "duration": 0,
    "start_time": "2023-09-27T15:18:12.642Z"
   },
   {
    "duration": 0,
    "start_time": "2023-09-27T15:18:12.643Z"
   },
   {
    "duration": 0,
    "start_time": "2023-09-27T15:18:12.644Z"
   },
   {
    "duration": 0,
    "start_time": "2023-09-27T15:18:12.646Z"
   },
   {
    "duration": 0,
    "start_time": "2023-09-27T15:18:12.647Z"
   },
   {
    "duration": 0,
    "start_time": "2023-09-27T15:18:12.649Z"
   },
   {
    "duration": 0,
    "start_time": "2023-09-27T15:18:12.650Z"
   },
   {
    "duration": 0,
    "start_time": "2023-09-27T15:18:12.652Z"
   },
   {
    "duration": 0,
    "start_time": "2023-09-27T15:18:12.654Z"
   },
   {
    "duration": 0,
    "start_time": "2023-09-27T15:18:12.655Z"
   },
   {
    "duration": 0,
    "start_time": "2023-09-27T15:18:12.657Z"
   },
   {
    "duration": 0,
    "start_time": "2023-09-27T15:18:12.658Z"
   },
   {
    "duration": 0,
    "start_time": "2023-09-27T15:18:12.660Z"
   },
   {
    "duration": 0,
    "start_time": "2023-09-27T15:18:12.662Z"
   },
   {
    "duration": 0,
    "start_time": "2023-09-27T15:18:12.663Z"
   },
   {
    "duration": 0,
    "start_time": "2023-09-27T15:18:12.664Z"
   },
   {
    "duration": 0,
    "start_time": "2023-09-27T15:18:12.716Z"
   },
   {
    "duration": 0,
    "start_time": "2023-09-27T15:18:12.717Z"
   },
   {
    "duration": 0,
    "start_time": "2023-09-27T15:18:12.718Z"
   },
   {
    "duration": 0,
    "start_time": "2023-09-27T15:18:12.719Z"
   },
   {
    "duration": 0,
    "start_time": "2023-09-27T15:18:12.719Z"
   },
   {
    "duration": 0,
    "start_time": "2023-09-27T15:18:12.720Z"
   },
   {
    "duration": 0,
    "start_time": "2023-09-27T15:18:12.721Z"
   },
   {
    "duration": 0,
    "start_time": "2023-09-27T15:18:12.722Z"
   },
   {
    "duration": 0,
    "start_time": "2023-09-27T15:18:12.723Z"
   },
   {
    "duration": 0,
    "start_time": "2023-09-27T15:18:12.724Z"
   },
   {
    "duration": 0,
    "start_time": "2023-09-27T15:18:12.724Z"
   },
   {
    "duration": 0,
    "start_time": "2023-09-27T15:18:12.725Z"
   },
   {
    "duration": 0,
    "start_time": "2023-09-27T15:18:12.727Z"
   },
   {
    "duration": 0,
    "start_time": "2023-09-27T15:18:12.730Z"
   },
   {
    "duration": 0,
    "start_time": "2023-09-27T15:18:12.732Z"
   },
   {
    "duration": 0,
    "start_time": "2023-09-27T15:18:12.734Z"
   },
   {
    "duration": 0,
    "start_time": "2023-09-27T15:18:12.736Z"
   },
   {
    "duration": 0,
    "start_time": "2023-09-27T15:18:12.738Z"
   },
   {
    "duration": 0,
    "start_time": "2023-09-27T15:18:12.739Z"
   },
   {
    "duration": 0,
    "start_time": "2023-09-27T15:18:12.741Z"
   },
   {
    "duration": 0,
    "start_time": "2023-09-27T15:18:12.742Z"
   },
   {
    "duration": 0,
    "start_time": "2023-09-27T15:18:12.743Z"
   },
   {
    "duration": 0,
    "start_time": "2023-09-27T15:18:12.745Z"
   },
   {
    "duration": 0,
    "start_time": "2023-09-27T15:18:12.747Z"
   },
   {
    "duration": 0,
    "start_time": "2023-09-27T15:18:12.749Z"
   },
   {
    "duration": 0,
    "start_time": "2023-09-27T15:18:12.750Z"
   },
   {
    "duration": 13,
    "start_time": "2023-09-27T15:18:37.943Z"
   },
   {
    "duration": 14,
    "start_time": "2023-09-27T15:20:08.868Z"
   },
   {
    "duration": 1631,
    "start_time": "2023-09-27T15:23:40.996Z"
   },
   {
    "duration": 68,
    "start_time": "2023-09-27T15:23:42.629Z"
   },
   {
    "duration": 29,
    "start_time": "2023-09-27T15:23:42.699Z"
   },
   {
    "duration": 36,
    "start_time": "2023-09-27T15:23:42.731Z"
   },
   {
    "duration": 26,
    "start_time": "2023-09-27T15:23:42.769Z"
   },
   {
    "duration": 185,
    "start_time": "2023-09-27T15:23:42.797Z"
   },
   {
    "duration": 119,
    "start_time": "2023-09-27T15:23:42.984Z"
   },
   {
    "duration": 156,
    "start_time": "2023-09-27T15:23:43.105Z"
   },
   {
    "duration": 7,
    "start_time": "2023-09-27T15:23:43.262Z"
   },
   {
    "duration": 53,
    "start_time": "2023-09-27T15:23:43.272Z"
   },
   {
    "duration": 119,
    "start_time": "2023-09-27T15:23:43.327Z"
   },
   {
    "duration": 175,
    "start_time": "2023-09-27T15:23:43.447Z"
   },
   {
    "duration": 205,
    "start_time": "2023-09-27T15:23:43.624Z"
   },
   {
    "duration": 21,
    "start_time": "2023-09-27T15:23:43.831Z"
   },
   {
    "duration": 6,
    "start_time": "2023-09-27T15:23:43.854Z"
   },
   {
    "duration": 16,
    "start_time": "2023-09-27T15:23:43.862Z"
   },
   {
    "duration": 10,
    "start_time": "2023-09-27T15:23:43.880Z"
   },
   {
    "duration": 1111,
    "start_time": "2023-09-27T15:23:43.893Z"
   },
   {
    "duration": 25,
    "start_time": "2023-09-27T15:23:45.008Z"
   },
   {
    "duration": 158,
    "start_time": "2023-09-27T15:23:45.035Z"
   },
   {
    "duration": 149,
    "start_time": "2023-09-27T15:23:45.194Z"
   },
   {
    "duration": 144,
    "start_time": "2023-09-27T15:23:45.345Z"
   },
   {
    "duration": 0,
    "start_time": "2023-09-27T15:23:45.491Z"
   },
   {
    "duration": 0,
    "start_time": "2023-09-27T15:23:45.493Z"
   },
   {
    "duration": 0,
    "start_time": "2023-09-27T15:23:45.494Z"
   },
   {
    "duration": 0,
    "start_time": "2023-09-27T15:23:45.496Z"
   },
   {
    "duration": 0,
    "start_time": "2023-09-27T15:23:45.497Z"
   },
   {
    "duration": 0,
    "start_time": "2023-09-27T15:23:45.498Z"
   },
   {
    "duration": 0,
    "start_time": "2023-09-27T15:23:45.499Z"
   },
   {
    "duration": 0,
    "start_time": "2023-09-27T15:23:45.518Z"
   },
   {
    "duration": 0,
    "start_time": "2023-09-27T15:23:45.519Z"
   },
   {
    "duration": 0,
    "start_time": "2023-09-27T15:23:45.520Z"
   },
   {
    "duration": 0,
    "start_time": "2023-09-27T15:23:45.520Z"
   },
   {
    "duration": 0,
    "start_time": "2023-09-27T15:23:45.521Z"
   },
   {
    "duration": 0,
    "start_time": "2023-09-27T15:23:45.522Z"
   },
   {
    "duration": 0,
    "start_time": "2023-09-27T15:23:45.524Z"
   },
   {
    "duration": 0,
    "start_time": "2023-09-27T15:23:45.525Z"
   },
   {
    "duration": 0,
    "start_time": "2023-09-27T15:23:45.526Z"
   },
   {
    "duration": 0,
    "start_time": "2023-09-27T15:23:45.527Z"
   },
   {
    "duration": 0,
    "start_time": "2023-09-27T15:23:45.528Z"
   },
   {
    "duration": 0,
    "start_time": "2023-09-27T15:23:45.529Z"
   },
   {
    "duration": 0,
    "start_time": "2023-09-27T15:23:45.530Z"
   },
   {
    "duration": 0,
    "start_time": "2023-09-27T15:23:45.531Z"
   },
   {
    "duration": 0,
    "start_time": "2023-09-27T15:23:45.533Z"
   },
   {
    "duration": 0,
    "start_time": "2023-09-27T15:23:45.534Z"
   },
   {
    "duration": 0,
    "start_time": "2023-09-27T15:23:45.535Z"
   },
   {
    "duration": 0,
    "start_time": "2023-09-27T15:23:45.536Z"
   },
   {
    "duration": 0,
    "start_time": "2023-09-27T15:23:45.537Z"
   },
   {
    "duration": 0,
    "start_time": "2023-09-27T15:23:45.538Z"
   },
   {
    "duration": 0,
    "start_time": "2023-09-27T15:23:45.539Z"
   },
   {
    "duration": 0,
    "start_time": "2023-09-27T15:23:45.541Z"
   },
   {
    "duration": 0,
    "start_time": "2023-09-27T15:23:45.542Z"
   },
   {
    "duration": 1,
    "start_time": "2023-09-27T15:23:45.543Z"
   },
   {
    "duration": 0,
    "start_time": "2023-09-27T15:23:45.545Z"
   },
   {
    "duration": 0,
    "start_time": "2023-09-27T15:23:45.545Z"
   },
   {
    "duration": 0,
    "start_time": "2023-09-27T15:23:45.546Z"
   },
   {
    "duration": 0,
    "start_time": "2023-09-27T15:23:45.548Z"
   },
   {
    "duration": 0,
    "start_time": "2023-09-27T15:23:45.549Z"
   },
   {
    "duration": 0,
    "start_time": "2023-09-27T15:23:45.550Z"
   },
   {
    "duration": 0,
    "start_time": "2023-09-27T15:23:45.551Z"
   },
   {
    "duration": 0,
    "start_time": "2023-09-27T15:23:45.552Z"
   },
   {
    "duration": 26,
    "start_time": "2023-09-27T15:26:25.692Z"
   },
   {
    "duration": 64,
    "start_time": "2023-09-27T15:29:15.855Z"
   },
   {
    "duration": 506,
    "start_time": "2023-09-27T15:30:05.425Z"
   },
   {
    "duration": 250,
    "start_time": "2023-09-27T15:30:50.397Z"
   },
   {
    "duration": 20,
    "start_time": "2023-09-27T15:32:57.996Z"
   },
   {
    "duration": 18,
    "start_time": "2023-09-27T15:33:06.324Z"
   },
   {
    "duration": 66,
    "start_time": "2023-09-27T15:33:58.179Z"
   },
   {
    "duration": 23,
    "start_time": "2023-09-27T15:34:34.628Z"
   },
   {
    "duration": 507,
    "start_time": "2023-09-27T15:34:43.724Z"
   },
   {
    "duration": 271,
    "start_time": "2023-09-27T15:35:15.866Z"
   },
   {
    "duration": 82,
    "start_time": "2023-09-27T15:38:54.591Z"
   },
   {
    "duration": 504,
    "start_time": "2023-09-27T15:39:53.180Z"
   },
   {
    "duration": 81,
    "start_time": "2023-09-27T15:43:24.248Z"
   },
   {
    "duration": 100811,
    "start_time": "2023-09-27T15:43:56.986Z"
   },
   {
    "duration": 99315,
    "start_time": "2023-09-27T15:47:26.405Z"
   },
   {
    "duration": 17,
    "start_time": "2023-09-27T15:56:18.628Z"
   },
   {
    "duration": 16,
    "start_time": "2023-09-27T15:58:26.468Z"
   },
   {
    "duration": 144,
    "start_time": "2023-09-27T15:59:06.200Z"
   },
   {
    "duration": 142,
    "start_time": "2023-09-27T15:59:52.431Z"
   },
   {
    "duration": 16,
    "start_time": "2023-09-27T16:05:41.330Z"
   },
   {
    "duration": 122,
    "start_time": "2023-09-27T16:05:43.442Z"
   },
   {
    "duration": 10,
    "start_time": "2023-09-27T16:07:48.780Z"
   },
   {
    "duration": 10,
    "start_time": "2023-09-27T16:08:59.332Z"
   },
   {
    "duration": 34,
    "start_time": "2023-09-27T16:09:55.088Z"
   },
   {
    "duration": 192,
    "start_time": "2023-09-27T16:14:10.329Z"
   },
   {
    "duration": 640,
    "start_time": "2023-09-27T16:15:37.867Z"
   },
   {
    "duration": 131099,
    "start_time": "2023-09-27T16:17:44.552Z"
   },
   {
    "duration": 12,
    "start_time": "2023-09-27T16:31:04.054Z"
   },
   {
    "duration": 12,
    "start_time": "2023-09-27T16:31:50.638Z"
   },
   {
    "duration": 129,
    "start_time": "2023-09-27T16:32:50.112Z"
   },
   {
    "duration": 8,
    "start_time": "2023-09-27T16:33:41.230Z"
   },
   {
    "duration": 80,
    "start_time": "2023-09-27T16:36:36.449Z"
   },
   {
    "duration": 75,
    "start_time": "2023-09-27T16:38:29.285Z"
   },
   {
    "duration": 263,
    "start_time": "2023-09-27T16:40:51.639Z"
   },
   {
    "duration": 63332,
    "start_time": "2023-09-27T16:41:46.326Z"
   },
   {
    "duration": 18,
    "start_time": "2023-09-27T16:47:01.658Z"
   },
   {
    "duration": 1791,
    "start_time": "2023-09-27T16:50:01.122Z"
   },
   {
    "duration": 58,
    "start_time": "2023-09-27T16:50:02.923Z"
   },
   {
    "duration": 38,
    "start_time": "2023-09-27T16:50:02.983Z"
   },
   {
    "duration": 40,
    "start_time": "2023-09-27T16:50:03.027Z"
   },
   {
    "duration": 34,
    "start_time": "2023-09-27T16:50:03.069Z"
   },
   {
    "duration": 170,
    "start_time": "2023-09-27T16:50:03.105Z"
   },
   {
    "duration": 115,
    "start_time": "2023-09-27T16:50:03.277Z"
   },
   {
    "duration": 163,
    "start_time": "2023-09-27T16:50:03.394Z"
   },
   {
    "duration": 8,
    "start_time": "2023-09-27T16:50:03.559Z"
   },
   {
    "duration": 13,
    "start_time": "2023-09-27T16:50:03.569Z"
   },
   {
    "duration": 122,
    "start_time": "2023-09-27T16:50:03.584Z"
   },
   {
    "duration": 129,
    "start_time": "2023-09-27T16:50:03.709Z"
   },
   {
    "duration": 199,
    "start_time": "2023-09-27T16:50:03.839Z"
   },
   {
    "duration": 21,
    "start_time": "2023-09-27T16:50:04.040Z"
   },
   {
    "duration": 8,
    "start_time": "2023-09-27T16:50:04.063Z"
   },
   {
    "duration": 15,
    "start_time": "2023-09-27T16:50:04.073Z"
   },
   {
    "duration": 30,
    "start_time": "2023-09-27T16:50:04.090Z"
   },
   {
    "duration": 1182,
    "start_time": "2023-09-27T16:50:04.122Z"
   },
   {
    "duration": 26,
    "start_time": "2023-09-27T16:50:05.306Z"
   },
   {
    "duration": 146,
    "start_time": "2023-09-27T16:50:05.334Z"
   },
   {
    "duration": 149,
    "start_time": "2023-09-27T16:50:05.482Z"
   },
   {
    "duration": 85,
    "start_time": "2023-09-27T16:50:05.633Z"
   },
   {
    "duration": 145,
    "start_time": "2023-09-27T16:50:05.721Z"
   },
   {
    "duration": 495,
    "start_time": "2023-09-27T16:50:05.868Z"
   },
   {
    "duration": 64,
    "start_time": "2023-09-27T16:50:06.365Z"
   },
   {
    "duration": 216,
    "start_time": "2023-09-27T16:50:06.432Z"
   },
   {
    "duration": 497,
    "start_time": "2023-09-27T16:50:06.650Z"
   },
   {
    "duration": 99145,
    "start_time": "2023-09-27T16:50:07.151Z"
   },
   {
    "duration": 14,
    "start_time": "2023-09-27T16:51:46.299Z"
   },
   {
    "duration": 11,
    "start_time": "2023-09-27T16:51:46.318Z"
   },
   {
    "duration": 14,
    "start_time": "2023-09-27T16:51:46.331Z"
   },
   {
    "duration": 135,
    "start_time": "2023-09-27T16:51:46.347Z"
   },
   {
    "duration": 12,
    "start_time": "2023-09-27T16:51:46.484Z"
   },
   {
    "duration": 101,
    "start_time": "2023-09-27T16:51:46.510Z"
   },
   {
    "duration": 272,
    "start_time": "2023-09-27T16:51:46.616Z"
   },
   {
    "duration": 658,
    "start_time": "2023-09-27T16:51:46.889Z"
   },
   {
    "duration": 131768,
    "start_time": "2023-09-27T16:51:47.548Z"
   },
   {
    "duration": 12,
    "start_time": "2023-09-27T16:53:59.320Z"
   },
   {
    "duration": 148,
    "start_time": "2023-09-27T16:53:59.334Z"
   },
   {
    "duration": 8,
    "start_time": "2023-09-27T16:53:59.484Z"
   },
   {
    "duration": 27,
    "start_time": "2023-09-27T16:53:59.494Z"
   },
   {
    "duration": 248,
    "start_time": "2023-09-27T16:53:59.532Z"
   },
   {
    "duration": 280,
    "start_time": "2023-09-27T16:53:59.782Z"
   },
   {
    "duration": 61772,
    "start_time": "2023-09-27T16:54:00.064Z"
   },
   {
    "duration": 627,
    "start_time": "2023-09-27T16:55:01.838Z"
   },
   {
    "duration": 411,
    "start_time": "2023-09-27T16:55:19.392Z"
   },
   {
    "duration": 33,
    "start_time": "2023-09-27T16:55:26.956Z"
   },
   {
    "duration": 146,
    "start_time": "2023-09-27T16:55:29.889Z"
   }
  ],
  "kernelspec": {
   "display_name": "Python 3 (ipykernel)",
   "language": "python",
   "name": "python3"
  },
  "language_info": {
   "codemirror_mode": {
    "name": "ipython",
    "version": 3
   },
   "file_extension": ".py",
   "mimetype": "text/x-python",
   "name": "python",
   "nbconvert_exporter": "python",
   "pygments_lexer": "ipython3",
   "version": "3.11.5"
  },
  "toc": {
   "base_numbering": 1,
   "nav_menu": {},
   "number_sections": true,
   "sideBar": true,
   "skip_h1_title": true,
   "title_cell": "Содержание",
   "title_sidebar": "Contents",
   "toc_cell": true,
   "toc_position": {
    "height": "calc(100% - 180px)",
    "left": "10px",
    "top": "150px",
    "width": "307px"
   },
   "toc_section_display": true,
   "toc_window_display": true
  }
 },
 "nbformat": 4,
 "nbformat_minor": 2
}
